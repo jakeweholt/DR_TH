{
 "cells": [
  {
   "cell_type": "code",
   "execution_count": null,
   "metadata": {
    "ExecuteTime": {
     "end_time": "2019-04-29T15:27:22.102004Z",
     "start_time": "2019-04-29T15:27:20.769892Z"
    }
   },
   "outputs": [],
   "source": [
    "### Train Model . py\n",
    "from data_processing import DataProcesser\n",
    "from model import Model\n",
    "from model_training import ModelTrainingData\n",
    "from xgboost.sklearn import XGBClassifier\n",
    "\n",
    "import pandas as pd\n",
    "import pickle\n",
    "import time\n",
    "\n",
    "\n",
    "# Creates new model patch version when ran.\n",
    "model_version = '0.1.%d' % int(time.time())  \n",
    "\n",
    "df = pd.read_csv('../data/DR_Demo_Lending_Club.csv')\n",
    "d = DataProcesser()\n",
    "X, y = d.fit_transform(df)\n",
    "# Save out fit DataProcesser.\n",
    "pickle.dump(d, open('../saved_models/xgboost/data_processer_{}.p'.format(model_version), 'wb'))\n",
    "\n",
    "mtd = ModelTrainingData(X, y)\n",
    "# Save out ModelTrainingData\n",
    "pickle.dump(mtd, open('../saved_models/xgboost/training_data_{}.p'.format(model_version), 'wb'))\n",
    "\n",
    "model_definition = XGBClassifier(n_estimators=100, scale_pos_weight=6.77)\n",
    "model_fit_parameters = {\n",
    "    'eval_metric':'logloss'\n",
    "}\n",
    "\n",
    "# pickle.dump(m, open('../saved_models/xgboost/model_{}.p'.format(model_version), 'wb'))\n",
    "def save_model(model, model_name):\n",
    "    pickle.dump(m, open('../saved_models/xgboost/model_{}_{}.p'.format(model_name, model_version), 'wb'))\n"
   ]
  },
  {
   "cell_type": "code",
   "execution_count": null,
   "metadata": {
    "ExecuteTime": {
     "end_time": "2019-04-29T15:27:25.721167Z",
     "start_time": "2019-04-29T15:27:24.238841Z"
    }
   },
   "outputs": [],
   "source": [
    "# Train all data model\n",
    "model_name = 'all_data'\n",
    "m = Model(model_definiton=model_definition)\n",
    "m.fit(mtd.X_all_data, mtd.y_all_data, model_fit_parameters)\n",
    "\n"
   ]
  },
  {
   "cell_type": "code",
   "execution_count": null,
   "metadata": {
    "ExecuteTime": {
     "end_time": "2019-04-29T15:27:33.906588Z",
     "start_time": "2019-04-29T15:27:32.536192Z"
    }
   },
   "outputs": [],
   "source": [
    "# Train validation model\n",
    "model_name = 'validation'\n",
    "m = Model(model_definiton=model_definition)\n",
    "m.fit(mtd.X_train, mtd.y_train, model_fit_parameters)\n",
    "\n",
    "save_model(m, model_name)"
   ]
  },
  {
   "cell_type": "code",
   "execution_count": null,
   "metadata": {
    "ExecuteTime": {
     "end_time": "2019-04-29T15:27:43.836197Z",
     "start_time": "2019-04-29T15:27:38.606256Z"
    }
   },
   "outputs": [],
   "source": [
    "# Train k-fold models\n",
    "for fold in mtd.folds:\n",
    "    X = mtd.folds[fold]['X_train']\n",
    "    y = mtd.folds[fold]['y_train']\n",
    "    model_name = 'k_{}'.format(fold)\n",
    "    \n",
    "    m = Model(model_definiton=model_definition)\n",
    "    m.fit(X, y, model_fit_parameters)\n",
    "\n",
    "    save_model(m, model_name)"
   ]
  },
  {
   "cell_type": "code",
   "execution_count": 3,
   "metadata": {
    "ExecuteTime": {
     "end_time": "2019-04-29T15:56:03.996253Z",
     "start_time": "2019-04-29T15:56:03.978801Z"
    }
   },
   "outputs": [
    {
     "data": {
      "text/plain": [
       "<model.Model at 0x128306b00>"
      ]
     },
     "execution_count": 3,
     "metadata": {},
     "output_type": "execute_result"
    }
   ],
   "source": [
    "import pickle\n",
    "pickle.load(open('../saved_models/xgboost_model_verification_data_0.1.1556552609.p', 'rb'))"
   ]
  },
  {
   "cell_type": "code",
   "execution_count": null,
   "metadata": {},
   "outputs": [],
   "source": []
  }
 ],
 "metadata": {
  "kernelspec": {
   "display_name": "DR_TH",
   "language": "python",
   "name": "py2env"
  },
  "language_info": {
   "codemirror_mode": {
    "name": "ipython",
    "version": 3
   },
   "file_extension": ".py",
   "mimetype": "text/x-python",
   "name": "python",
   "nbconvert_exporter": "python",
   "pygments_lexer": "ipython3",
   "version": "3.7.1"
  },
  "toc": {
   "colors": {
    "hover_highlight": "#DAA520",
    "navigate_num": "#000000",
    "navigate_text": "#333333",
    "running_highlight": "#FF0000",
    "selected_highlight": "#FFD700",
    "sidebar_border": "#EEEEEE",
    "wrapper_background": "#FFFFFF"
   },
   "moveMenuLeft": true,
   "nav_menu": {
    "height": "12px",
    "width": "252px"
   },
   "navigate_menu": true,
   "number_sections": true,
   "sideBar": true,
   "threshold": 4,
   "toc_cell": false,
   "toc_section_display": "block",
   "toc_window_display": false,
   "widenNotebook": false
  }
 },
 "nbformat": 4,
 "nbformat_minor": 2
}
