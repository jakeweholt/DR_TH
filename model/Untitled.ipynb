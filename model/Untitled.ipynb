{
 "cells": [
  {
   "cell_type": "code",
   "execution_count": 1,
   "metadata": {
    "ExecuteTime": {
     "end_time": "2019-04-26T18:47:21.968959Z",
     "start_time": "2019-04-26T18:47:21.078823Z"
    }
   },
   "outputs": [],
   "source": [
    "from model import Model\n",
    "import pandas as pd\n",
    "df = pd.read_csv('../data/DR_Demo_Lending_Club.csv')\n"
   ]
  },
  {
   "cell_type": "code",
   "execution_count": 2,
   "metadata": {
    "ExecuteTime": {
     "end_time": "2019-04-26T18:47:22.025418Z",
     "start_time": "2019-04-26T18:47:21.972279Z"
    }
   },
   "outputs": [],
   "source": [
    "from xgboost.sklearn import XGBClassifier\n",
    "from sklearn.linear_model import LogisticRegression"
   ]
  },
  {
   "cell_type": "code",
   "execution_count": 33,
   "metadata": {
    "ExecuteTime": {
     "end_time": "2019-04-26T18:53:25.246064Z",
     "start_time": "2019-04-26T18:53:25.242410Z"
    }
   },
   "outputs": [],
   "source": [
    "model_definition = XGBClassifier(n_estimators=100, scale_pos_weight=6.77)\n",
    "model_fit_parameters = {\n",
    "    'eval_metric':'logloss'\n",
    "}"
   ]
  },
  {
   "cell_type": "code",
   "execution_count": 34,
   "metadata": {
    "ExecuteTime": {
     "end_time": "2019-04-26T18:53:26.729891Z",
     "start_time": "2019-04-26T18:53:26.313267Z"
    }
   },
   "outputs": [],
   "source": [
    "m = Model(model_data=df, model_definiton=model_definition)"
   ]
  },
  {
   "cell_type": "code",
   "execution_count": 35,
   "metadata": {
    "ExecuteTime": {
     "end_time": "2019-04-26T18:53:28.860788Z",
     "start_time": "2019-04-26T18:53:27.353562Z"
    }
   },
   "outputs": [],
   "source": [
    "m.fit_all_data(model_fit_parameters)"
   ]
  },
  {
   "cell_type": "code",
   "execution_count": 36,
   "metadata": {
    "ExecuteTime": {
     "end_time": "2019-04-26T18:53:29.531323Z",
     "start_time": "2019-04-26T18:53:29.490101Z"
    }
   },
   "outputs": [
    {
     "data": {
      "text/plain": [
       "3062"
      ]
     },
     "execution_count": 36,
     "metadata": {},
     "output_type": "execute_result"
    }
   ],
   "source": [
    "sum(m.model_definiton.predict(m.model_training_data.X_raw))"
   ]
  },
  {
   "cell_type": "code",
   "execution_count": null,
   "metadata": {},
   "outputs": [],
   "source": []
  },
  {
   "cell_type": "code",
   "execution_count": null,
   "metadata": {
    "ExecuteTime": {
     "end_time": "2019-04-26T18:45:09.926596Z",
     "start_time": "2019-04-26T18:45:09.913312Z"
    }
   },
   "outputs": [],
   "source": [
    "import numpy as np\n",
    "test_row = pd.DataFrame({'Id': 1,\n",
    " 'is_bad': 0,\n",
    " 'emp_title': 'Time Warner Cable',\n",
    " 'emp_length': '10',\n",
    " 'home_ownership': 'MORTGAGE',\n",
    " 'annual_inc': 50000.0,\n",
    " 'verification_status': 'not verified',\n",
    " 'pymnt_plan': 'n',\n",
    " 'Notes': np.nan,\n",
    " 'purpose_cat': 'medical',\n",
    " 'purpose': 'Medical',\n",
    " 'zip_code': '766xx',\n",
    " 'addr_state': 'TX',\n",
    " 'debt_to_income': 10.87,\n",
    " 'delinq_2yrs': 0.0,\n",
    " 'earliest_cr_line': pd.to_datetime('1992-12-01 00:00:00'),\n",
    " 'inq_last_6mths': 0.0,\n",
    " 'mths_since_last_delinq': np.nan,\n",
    " 'mths_since_last_record': np.nan,\n",
    " 'open_acc': 15.0,\n",
    " 'pub_rec': 1,\n",
    " 'revol_bal': 100,\n",
    " 'revol_util': 12.1,\n",
    " 'total_acc': 44.0,\n",
    " 'initial_list_status': 'f',\n",
    " 'collections_12_mths_ex_med': 0.0,\n",
    " 'mths_since_last_major_derog': 1,\n",
    " 'policy_code': 'PC4',\n",
    " 'days_since_earliest_cr_line': 9642.0}, index=[0])"
   ]
  },
  {
   "cell_type": "code",
   "execution_count": null,
   "metadata": {
    "ExecuteTime": {
     "end_time": "2019-04-26T18:45:10.184381Z",
     "start_time": "2019-04-26T18:45:09.930298Z"
    }
   },
   "outputs": [],
   "source": [
    "rdt.transform(test_row)"
   ]
  },
  {
   "cell_type": "code",
   "execution_count": null,
   "metadata": {},
   "outputs": [],
   "source": []
  }
 ],
 "metadata": {
  "kernelspec": {
   "display_name": "DR_TH",
   "language": "python",
   "name": "py2env"
  },
  "language_info": {
   "codemirror_mode": {
    "name": "ipython",
    "version": 3
   },
   "file_extension": ".py",
   "mimetype": "text/x-python",
   "name": "python",
   "nbconvert_exporter": "python",
   "pygments_lexer": "ipython3",
   "version": "3.7.1"
  },
  "toc": {
   "colors": {
    "hover_highlight": "#DAA520",
    "navigate_num": "#000000",
    "navigate_text": "#333333",
    "running_highlight": "#FF0000",
    "selected_highlight": "#FFD700",
    "sidebar_border": "#EEEEEE",
    "wrapper_background": "#FFFFFF"
   },
   "moveMenuLeft": true,
   "nav_menu": {
    "height": "12px",
    "width": "252px"
   },
   "navigate_menu": true,
   "number_sections": true,
   "sideBar": true,
   "threshold": 4,
   "toc_cell": false,
   "toc_section_display": "block",
   "toc_window_display": false,
   "widenNotebook": false
  }
 },
 "nbformat": 4,
 "nbformat_minor": 2
}
