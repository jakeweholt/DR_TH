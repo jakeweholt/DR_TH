{
 "cells": [
  {
   "cell_type": "code",
   "execution_count": null,
   "metadata": {
    "ExecuteTime": {
     "end_time": "2019-04-29T14:50:48.074167Z",
     "start_time": "2019-04-29T14:50:47.568749Z"
    }
   },
   "outputs": [],
   "source": []
  },
  {
   "cell_type": "code",
   "execution_count": 1,
   "metadata": {
    "ExecuteTime": {
     "end_time": "2019-04-29T15:19:19.699048Z",
     "start_time": "2019-04-29T15:19:17.661037Z"
    }
   },
   "outputs": [],
   "source": [
    "### Train Model . py\n",
    "from data_processing import DataProcesser\n",
    "from model import Model\n",
    "from model_training import ModelTrainingData\n",
    "from xgboost.sklearn import XGBClassifier\n",
    "\n",
    "import pandas as pd\n",
    "import pickle\n",
    "import time\n",
    "\n",
    "\n",
    "# Creates new model patch version when ran.\n",
    "model_version = '0.1.%d' % int(time.time())  \n",
    "\n",
    "df = pd.read_csv('../data/DR_Demo_Lending_Club.csv')\n",
    "d = DataProcesser()\n",
    "X, y = d.fit_transform(df)\n",
    "# Save out fit DataProcesser.\n",
    "pickle.dump(d, open('../saved_models/xgboost/data_processer_{}.p'.format(model_version), 'wb'))\n",
    "\n",
    "mtd = ModelTrainingData(X, y)\n",
    "# Save out ModelTrainingData\n",
    "pickle.dump(mtd, open('../saved_models/xgboost/model_training_data_{}.p'.format(model_version), 'wb'))\n",
    "\n",
    "model_definition = XGBClassifier(n_estimators=100, scale_pos_weight=6.77)\n",
    "model_fit_parameters = {\n",
    "    'eval_metric':'logloss'\n",
    "}\n",
    "\n",
    "# pickle.dump(m, open('../saved_models/xgboost/model_{}.p'.format(model_version), 'wb'))\n",
    "def save_model(model, model_name):\n",
    "    pickle.dump(m, open('../saved_models/xgboost/model_{}_{}.p'.format(model_name, model_version), 'wb'))\n"
   ]
  },
  {
   "cell_type": "code",
   "execution_count": 8,
   "metadata": {
    "ExecuteTime": {
     "end_time": "2019-04-29T15:21:35.889383Z",
     "start_time": "2019-04-29T15:21:34.412142Z"
    }
   },
   "outputs": [],
   "source": [
    "# Train all data model\n",
    "model_name = 'all_data'\n",
    "m = Model(model_definiton=model_definition)\n",
    "m.fit(mtd.X_all_data, mtd.y_all_data, model_fit_parameters)\n",
    "\n",
    "save_model(m, model_name)"
   ]
  },
  {
   "cell_type": "code",
   "execution_count": 9,
   "metadata": {
    "ExecuteTime": {
     "end_time": "2019-04-29T15:22:37.797689Z",
     "start_time": "2019-04-29T15:22:36.519531Z"
    }
   },
   "outputs": [],
   "source": [
    "# Train validation model\n",
    "model_name = 'validation'\n",
    "m = Model(model_definiton=model_definition)\n",
    "m.fit(mtd.X_train, mtd.y_train, model_fit_parameters)\n",
    "\n",
    "pickle.dump(m, open('../saved_models/xgboost/model_{}_{}.p'.format(model_name, model_version), 'wb'))"
   ]
  },
  {
   "cell_type": "code",
   "execution_count": 11,
   "metadata": {
    "ExecuteTime": {
     "end_time": "2019-04-29T15:25:30.331803Z",
     "start_time": "2019-04-29T15:25:24.870356Z"
    }
   },
   "outputs": [],
   "source": [
    "# Train k-fold models\n",
    "for fold in mtd.folds:\n",
    "    X = mtd.folds[fold]['X_train']\n",
    "    y = mtd.folds[fold]['y_train']\n",
    "    model_name = 'k_{}'.format(fold)\n",
    "    \n",
    "    m = Model(model_definiton=model_definition)\n",
    "    m.fit(X, y, model_fit_parameters)\n",
    "\n",
    "    pickle.dump(m, open('../saved_models/xgboost/{}_model_{}.p'.format(model_name, model_version), 'wb'))"
   ]
  },
  {
   "cell_type": "code",
   "execution_count": null,
   "metadata": {},
   "outputs": [],
   "source": []
  },
  {
   "cell_type": "code",
   "execution_count": null,
   "metadata": {},
   "outputs": [],
   "source": []
  },
  {
   "cell_type": "code",
   "execution_count": null,
   "metadata": {
    "ExecuteTime": {
     "end_time": "2019-04-29T15:11:49.161169Z",
     "start_time": "2019-04-29T15:11:47.897253Z"
    }
   },
   "outputs": [],
   "source": [
    "m.fit(X=mtd.X_train, y=mtd.y_train, model_fit_parameters=model_fit_parameters)"
   ]
  },
  {
   "cell_type": "code",
   "execution_count": null,
   "metadata": {
    "ExecuteTime": {
     "end_time": "2019-04-29T15:14:11.447066Z",
     "start_time": "2019-04-29T15:14:11.378945Z"
    }
   },
   "outputs": [],
   "source": [
    "mtd.folds[fold]['X_train']"
   ]
  },
  {
   "cell_type": "code",
   "execution_count": null,
   "metadata": {
    "ExecuteTime": {
     "end_time": "2019-04-26T18:45:09.926596Z",
     "start_time": "2019-04-26T18:45:09.913312Z"
    }
   },
   "outputs": [],
   "source": [
    "import numpy as np\n",
    "test_row = pd.DataFrame({'Id': 1,\n",
    " 'is_bad': 0,\n",
    " 'emp_title': 'Time Warner Cable',\n",
    " 'emp_length': '10',\n",
    " 'home_ownership': 'MORTGAGE',\n",
    " 'annual_inc': 50000.0,\n",
    " 'verification_status': 'not verified',\n",
    " 'pymnt_plan': 'n',\n",
    " 'Notes': np.nan,\n",
    " 'purpose_cat': 'medical',\n",
    " 'purpose': 'Medical',\n",
    " 'zip_code': '766xx',\n",
    " 'addr_state': 'TX',\n",
    " 'debt_to_income': 10.87,\n",
    " 'delinq_2yrs': 0.0,\n",
    " 'earliest_cr_line': pd.to_datetime('1992-12-01 00:00:00'),\n",
    " 'inq_last_6mths': 0.0,\n",
    " 'mths_since_last_delinq': np.nan,\n",
    " 'mths_since_last_record': np.nan,\n",
    " 'open_acc': 15.0,\n",
    " 'pub_rec': 1,\n",
    " 'revol_bal': 100,\n",
    " 'revol_util': 12.1,\n",
    " 'total_acc': 44.0,\n",
    " 'initial_list_status': 'f',\n",
    " 'collections_12_mths_ex_med': 0.0,\n",
    " 'mths_since_last_major_derog': 1,\n",
    " 'policy_code': 'PC4',\n",
    " 'days_since_earliest_cr_line': 9642.0}, index=[0])"
   ]
  },
  {
   "cell_type": "code",
   "execution_count": null,
   "metadata": {
    "ExecuteTime": {
     "end_time": "2019-04-26T18:45:10.184381Z",
     "start_time": "2019-04-26T18:45:09.930298Z"
    }
   },
   "outputs": [],
   "source": [
    "rdt.transform(test_row)"
   ]
  },
  {
   "cell_type": "code",
   "execution_count": null,
   "metadata": {},
   "outputs": [],
   "source": []
  }
 ],
 "metadata": {
  "kernelspec": {
   "display_name": "DR_TH",
   "language": "python",
   "name": "py2env"
  },
  "language_info": {
   "codemirror_mode": {
    "name": "ipython",
    "version": 3
   },
   "file_extension": ".py",
   "mimetype": "text/x-python",
   "name": "python",
   "nbconvert_exporter": "python",
   "pygments_lexer": "ipython3",
   "version": "3.7.1"
  },
  "toc": {
   "colors": {
    "hover_highlight": "#DAA520",
    "navigate_num": "#000000",
    "navigate_text": "#333333",
    "running_highlight": "#FF0000",
    "selected_highlight": "#FFD700",
    "sidebar_border": "#EEEEEE",
    "wrapper_background": "#FFFFFF"
   },
   "moveMenuLeft": true,
   "nav_menu": {
    "height": "12px",
    "width": "252px"
   },
   "navigate_menu": true,
   "number_sections": true,
   "sideBar": true,
   "threshold": 4,
   "toc_cell": false,
   "toc_section_display": "block",
   "toc_window_display": false,
   "widenNotebook": false
  }
 },
 "nbformat": 4,
 "nbformat_minor": 2
}
