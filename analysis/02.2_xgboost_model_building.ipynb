{
 "cells": [
  {
   "cell_type": "code",
   "execution_count": 28,
   "metadata": {
    "ExecuteTime": {
     "end_time": "2019-04-26T02:42:22.887957Z",
     "start_time": "2019-04-26T02:42:22.780462Z"
    }
   },
   "outputs": [],
   "source": [
    "import matplotlib.pyplot as plt\n",
    "import numpy as np\n",
    "import pandas as pd\n",
    "import pickle\n",
    "from xgboost.sklearn import XGBClassifier\n",
    "from sklearn.preprocessing import LabelEncoder, OneHotEncoder\n",
    "from sklearn.model_selection import StratifiedKFold, GridSearchCV\n",
    "from sklearn.metrics import precision_recall_curve, precision_recall_fscore_support, roc_curve, auc\n",
    "\n",
    "from library_code import XGBoostModelData\n",
    "from sklearn.metrics import recall_score, precision_score, f1_score"
   ]
  },
  {
   "cell_type": "code",
   "execution_count": 8,
   "metadata": {
    "ExecuteTime": {
     "end_time": "2019-04-26T02:33:50.814793Z",
     "start_time": "2019-04-26T02:33:50.781294Z"
    }
   },
   "outputs": [],
   "source": [
    "xgboost_data = pickle.load(open('xgb_train_validation_data.p', 'rb'))\n",
    "xgbc = XGBClassifier(n_estimators=100, max_depth=10)\n"
   ]
  },
  {
   "cell_type": "code",
   "execution_count": 33,
   "metadata": {
    "ExecuteTime": {
     "end_time": "2019-04-26T02:45:40.088340Z",
     "start_time": "2019-04-26T02:45:14.217757Z"
    }
   },
   "outputs": [
    {
     "name": "stdout",
     "output_type": "stream",
     "text": [
      "fold_0\n",
      "Accuracy: 0.871976401179941\n",
      "Precision: 0.5714285714285714\n",
      "Recall: 0.05454545454545454\n",
      "F1 Score: 0.0995850622406639\n",
      "\n",
      "fold_1\n",
      "Accuracy: 0.8707964601769912\n",
      "Precision: 0.5384615384615384\n",
      "Recall: 0.031818181818181815\n",
      "F1 Score: 0.06008583690987123\n",
      "\n",
      "fold_2\n",
      "Accuracy: 0.872491145218418\n",
      "Precision: 0.5882352941176471\n",
      "Recall: 0.045662100456621\n",
      "F1 Score: 0.0847457627118644\n",
      "\n",
      "fold_3\n",
      "Accuracy: 0.8695395513577332\n",
      "Precision: 0.4444444444444444\n",
      "Recall: 0.0365296803652968\n",
      "F1 Score: 0.06751054852320675\n",
      "\n",
      "fold_4\n",
      "Accuracy: 0.8713105076741441\n",
      "Precision: 0.5454545454545454\n",
      "Recall: 0.0273972602739726\n",
      "F1 Score: 0.05217391304347826\n",
      "\n"
     ]
    }
   ],
   "source": [
    "data_folds = xgboost_data.k_folds\n",
    "for fold in data_folds:\n",
    "    xgbc.fit(X=data_folds[fold]['X_train'], y=data_folds[fold]['y_train'], eval_metric='logloss')\n",
    "    \n",
    "    y_true = list(data_folds[fold]['y_test'])\n",
    "    y_pred = xgbc.predict(data_folds[fold]['X_test'])\n",
    "    \n",
    "    print(fold)\n",
    "    print('Accuracy: {}'.format((sum([x==y for x,y in zip(y_true, y_pred)])/len(y_pred))))\n",
    "    print('Precision: {}'.format(precision_score(y_pred=y_pred, y_true=y_true)))\n",
    "    print('Recall: {}'.format(recall_score(y_pred=y_pred, y_true=y_true)))\n",
    "    print('F1 Score: {}'.format(f1_score(y_pred=y_pred, y_true=y_true)))\n",
    "    print()"
   ]
  },
  {
   "cell_type": "code",
   "execution_count": 30,
   "metadata": {
    "ExecuteTime": {
     "end_time": "2019-04-26T02:44:11.819549Z",
     "start_time": "2019-04-26T02:44:11.812467Z"
    }
   },
   "outputs": [
    {
     "data": {
      "text/plain": [
       "0.5714285714285714"
      ]
     },
     "execution_count": 30,
     "metadata": {},
     "output_type": "execute_result"
    }
   ],
   "source": [
    "precision_score(y_pred=y_pred, y_true=y_true)"
   ]
  },
  {
   "cell_type": "code",
   "execution_count": 31,
   "metadata": {
    "ExecuteTime": {
     "end_time": "2019-04-26T02:44:21.294354Z",
     "start_time": "2019-04-26T02:44:21.287622Z"
    }
   },
   "outputs": [
    {
     "data": {
      "text/plain": [
       "0.05454545454545454"
      ]
     },
     "execution_count": 31,
     "metadata": {},
     "output_type": "execute_result"
    }
   ],
   "source": [
    "recall_score(y_pred=y_pred, y_true=y_true)"
   ]
  },
  {
   "cell_type": "code",
   "execution_count": null,
   "metadata": {
    "ExecuteTime": {
     "end_time": "2019-04-26T01:37:07.868127Z",
     "start_time": "2019-04-26T01:36:00.365276Z"
    }
   },
   "outputs": [],
   "source": [
    "model = XGBClassifier()\n",
    "n_estimators = range(1, 401, 50)\n",
    "param_grid = dict(n_estimators=n_estimators)\n",
    "kfold = StratifiedKFold(n_splits=6, shuffle=True, random_state=7)\n",
    "grid_search = GridSearchCV(model, param_grid, scoring=\"neg_log_loss\", n_jobs=-1, cv=kfold)\n",
    "grid_result = grid_search.fit(X, y_trans)"
   ]
  },
  {
   "cell_type": "code",
   "execution_count": null,
   "metadata": {
    "ExecuteTime": {
     "end_time": "2019-04-26T01:37:07.877890Z",
     "start_time": "2019-04-26T01:37:07.870744Z"
    }
   },
   "outputs": [],
   "source": [
    "print(\"Best: %f using %s\" % (grid_result.best_score_, grid_result.best_params_))\n",
    "means = grid_result.cv_results_['mean_test_score']\n",
    "stds = grid_result.cv_results_['std_test_score']\n",
    "params = grid_result.cv_results_['params']\n",
    "for mean, stdev, param in zip(means, stds, params):\n",
    "    print(\"%f (%f) with: %r\" % (mean, stdev, param))"
   ]
  },
  {
   "cell_type": "code",
   "execution_count": null,
   "metadata": {
    "ExecuteTime": {
     "end_time": "2019-04-26T01:37:08.173703Z",
     "start_time": "2019-04-26T01:37:07.881042Z"
    }
   },
   "outputs": [],
   "source": [
    "from matplotlib import pyplot\n",
    "pyplot.errorbar(n_estimators, means, yerr=stds)\n",
    "pyplot.title(\"XGBoost n_estimators vs Log Loss\")\n",
    "pyplot.xlabel('n_estimators')\n",
    "pyplot.ylabel('Log Loss')\n",
    "pyplot.savefig('n_estimators.png')\n",
    "pyplot.show()"
   ]
  },
  {
   "cell_type": "code",
   "execution_count": null,
   "metadata": {
    "ExecuteTime": {
     "end_time": "2019-04-26T01:29:24.228973Z",
     "start_time": "2019-04-26T01:29:20.907743Z"
    }
   },
   "outputs": [],
   "source": [
    "xgbc.fit(X=X, y=y_trans, eval_metric='logloss')"
   ]
  },
  {
   "cell_type": "code",
   "execution_count": null,
   "metadata": {
    "ExecuteTime": {
     "end_time": "2019-04-26T01:29:24.357359Z",
     "start_time": "2019-04-26T01:29:24.232123Z"
    }
   },
   "outputs": [],
   "source": [
    "y_pred = xgbc.predict(X)\n",
    "y_proba = xgbc.predict_proba(X)"
   ]
  },
  {
   "cell_type": "code",
   "execution_count": null,
   "metadata": {
    "ExecuteTime": {
     "end_time": "2019-04-26T01:29:24.374085Z",
     "start_time": "2019-04-26T01:29:24.360036Z"
    }
   },
   "outputs": [],
   "source": [
    "pr_data = precision_recall_curve(y_trans, [x[1] for x in y_proba])\n",
    "fpr, tpr, _ = roc_curve(y_true=y_trans, y_score=y_pred)"
   ]
  },
  {
   "cell_type": "code",
   "execution_count": null,
   "metadata": {
    "ExecuteTime": {
     "end_time": "2019-04-26T01:30:31.421493Z",
     "start_time": "2019-04-26T01:30:31.418206Z"
    }
   },
   "outputs": [],
   "source": [
    "precision = pr_data[0]\n",
    "recall = pr_data[1]\n",
    "probas = pr_data[2]"
   ]
  },
  {
   "cell_type": "code",
   "execution_count": null,
   "metadata": {
    "ExecuteTime": {
     "end_time": "2019-04-26T01:31:06.311966Z",
     "start_time": "2019-04-26T01:31:06.060845Z"
    }
   },
   "outputs": [],
   "source": [
    "plt.scatter(x=recall, y=precision)"
   ]
  },
  {
   "cell_type": "code",
   "execution_count": null,
   "metadata": {
    "ExecuteTime": {
     "end_time": "2019-04-26T01:32:44.965996Z",
     "start_time": "2019-04-26T01:32:44.927951Z"
    }
   },
   "outputs": [],
   "source": [
    "sum([x==y for x,y in zip(y_trans,y_pred)]) / len(y_pred)"
   ]
  },
  {
   "cell_type": "code",
   "execution_count": null,
   "metadata": {
    "ExecuteTime": {
     "end_time": "2019-04-26T01:32:05.021173Z",
     "start_time": "2019-04-26T01:32:05.016821Z"
    }
   },
   "outputs": [],
   "source": [
    "y_trans"
   ]
  },
  {
   "cell_type": "code",
   "execution_count": null,
   "metadata": {},
   "outputs": [],
   "source": []
  }
 ],
 "metadata": {
  "kernelspec": {
   "display_name": "DR_TH",
   "language": "python",
   "name": "py2env"
  },
  "language_info": {
   "codemirror_mode": {
    "name": "ipython",
    "version": 3
   },
   "file_extension": ".py",
   "mimetype": "text/x-python",
   "name": "python",
   "nbconvert_exporter": "python",
   "pygments_lexer": "ipython3",
   "version": "3.7.1"
  },
  "toc": {
   "colors": {
    "hover_highlight": "#DAA520",
    "navigate_num": "#000000",
    "navigate_text": "#333333",
    "running_highlight": "#FF0000",
    "selected_highlight": "#FFD700",
    "sidebar_border": "#EEEEEE",
    "wrapper_background": "#FFFFFF"
   },
   "moveMenuLeft": true,
   "nav_menu": {
    "height": "12px",
    "width": "252px"
   },
   "navigate_menu": true,
   "number_sections": true,
   "sideBar": true,
   "threshold": 4,
   "toc_cell": false,
   "toc_section_display": "block",
   "toc_window_display": false,
   "widenNotebook": false
  }
 },
 "nbformat": 4,
 "nbformat_minor": 2
}
