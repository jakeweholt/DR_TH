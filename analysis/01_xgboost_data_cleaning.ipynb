{
 "cells": [
  {
   "cell_type": "markdown",
   "metadata": {},
   "source": [
    "## Data Cleaning Summary\n",
    "\n",
    "### Drop N/A Values\n",
    "- delinq_2yrs \n",
    "- earliest_cr_line\n",
    "- inq_last_6mths\n",
    "- open_acc \n",
    "- pub_rec\n",
    "- total_acc\n",
    "- revol_util\n",
    "- purpose\n",
    "- annual_inc\n",
    "\n",
    "### Drop Columns\n",
    "- collections_12_mths_ex_med\n",
    "    - All values are either 0 or N/A\n",
    "- pymnt_plan, initial_list_status\n",
    "    - Huge imbalances, will likely lead to overfitting. Double check.\n",
    "- mths_since_last_record\n",
    "- mths_since_last_delinq\n",
    "    \n",
    "### Drop Outliers/Nonsensical Data\n",
    "- revol_bal == 1207359, this is an outlier value.\n",
    "- revol_util > 100\n",
    "\n",
    "\n",
    "### Impute Values\n",
    "\n",
    "\n",
    "### Simplify/Cleanup Categorical Data\n",
    "- emp_title (extra)\n",
    "    - This can be dramatically cleaned up.\n",
    "- home_ownership, verification_status\n",
    "    - Simplify\n",
    "\n",
    "### Distill Commentary (extra)\n",
    "- Notes\n",
    "    - Will likely drop for V1.\n",
    "- purpose\n",
    "    - Will likely drop and use purpose_cat instead.\n",
    "- purpose_cat\n",
    "    - Will choose cutoff count (<100) and map all those values to an 'other' bucket."
   ]
  },
  {
   "cell_type": "code",
   "execution_count": 190,
   "metadata": {
    "ExecuteTime": {
     "end_time": "2019-04-26T15:08:02.990475Z",
     "start_time": "2019-04-26T15:08:02.986824Z"
    }
   },
   "outputs": [],
   "source": [
    "import datetime\n",
    "import numpy as np\n",
    "import pandas as pd\n",
    "import pickle"
   ]
  },
  {
   "cell_type": "code",
   "execution_count": 191,
   "metadata": {
    "ExecuteTime": {
     "end_time": "2019-04-26T15:08:03.124560Z",
     "start_time": "2019-04-26T15:08:03.120900Z"
    }
   },
   "outputs": [],
   "source": [
    "## Helper Functions\n",
    "\n",
    "def class_balance(df):\n",
    "    print()\n",
    "    print('Class Balance:')\n",
    "    print(df.groupby('is_bad').count()['Id'])"
   ]
  },
  {
   "cell_type": "code",
   "execution_count": 192,
   "metadata": {
    "ExecuteTime": {
     "end_time": "2019-04-26T15:08:03.418892Z",
     "start_time": "2019-04-26T15:08:03.320977Z"
    }
   },
   "outputs": [],
   "source": [
    "df = pd.read_csv('../data/DR_Demo_Lending_Club.csv')"
   ]
  },
  {
   "cell_type": "code",
   "execution_count": 193,
   "metadata": {
    "ExecuteTime": {
     "end_time": "2019-04-26T15:08:03.461434Z",
     "start_time": "2019-04-26T15:08:03.438554Z"
    }
   },
   "outputs": [
    {
     "name": "stdout",
     "output_type": "stream",
     "text": [
      "\n",
      "Class Balance:\n",
      "is_bad\n",
      "0    8705\n",
      "1    1295\n",
      "Name: Id, dtype: int64\n"
     ]
    }
   ],
   "source": [
    "class_balance(df)"
   ]
  },
  {
   "cell_type": "markdown",
   "metadata": {},
   "source": [
    "# Clean Data"
   ]
  },
  {
   "cell_type": "markdown",
   "metadata": {},
   "source": [
    "## Dates and Convert String to Int"
   ]
  },
  {
   "cell_type": "code",
   "execution_count": 194,
   "metadata": {
    "ExecuteTime": {
     "end_time": "2019-04-26T15:08:04.966044Z",
     "start_time": "2019-04-26T15:08:04.033355Z"
    }
   },
   "outputs": [],
   "source": [
    "df['earliest_cr_line'] = pd.to_datetime(df['earliest_cr_line'])\n",
    "current_date = datetime.datetime.now().replace(hour=0, minute=0, second=0, microsecond=0)\n",
    "df['days_since_earliest_cr_line'] = (current_date - df['earliest_cr_line']).dt.days\n",
    "\n",
    "df = df.drop('earliest_cr_line', axis=1)\n",
    "\n",
    "df.loc[df['emp_length'] == 'na', 'emp_length'] = np.nan\n",
    "df['emp_length'] = df['emp_length'].astype('float64')"
   ]
  },
  {
   "cell_type": "markdown",
   "metadata": {},
   "source": [
    "## Drop NA Values"
   ]
  },
  {
   "cell_type": "code",
   "execution_count": 195,
   "metadata": {
    "ExecuteTime": {
     "end_time": "2019-04-26T15:08:04.996121Z",
     "start_time": "2019-04-26T15:08:04.968659Z"
    }
   },
   "outputs": [
    {
     "name": "stdout",
     "output_type": "stream",
     "text": [
      "Rows dropped: 0\n",
      "New data length: 9970\n",
      "\n",
      "Class Balance:\n",
      "is_bad\n",
      "0    8679\n",
      "1    1291\n",
      "Name: Id, dtype: int64\n"
     ]
    }
   ],
   "source": [
    "drop_na_columns = ['delinq_2yrs',\n",
    "'inq_last_6mths',\n",
    "'open_acc',\n",
    "'pub_rec',\n",
    "'total_acc',\n",
    "'revol_util',\n",
    "'purpose',\n",
    "'annual_inc']\n",
    "\n",
    "df = df.dropna(axis=0, subset=drop_na_columns)\n",
    "\n",
    "print('Rows dropped: {}'.format((len(df) - len(df))))\n",
    "print('New data length: {}'.format(len(df)))\n",
    "\n",
    "class_balance(df)"
   ]
  },
  {
   "cell_type": "markdown",
   "metadata": {
    "ExecuteTime": {
     "end_time": "2019-04-24T05:28:28.886094Z",
     "start_time": "2019-04-24T05:28:28.871253Z"
    }
   },
   "source": [
    "## Drop Columns"
   ]
  },
  {
   "cell_type": "code",
   "execution_count": 196,
   "metadata": {
    "ExecuteTime": {
     "end_time": "2019-04-26T15:08:05.005518Z",
     "start_time": "2019-04-26T15:08:04.998709Z"
    }
   },
   "outputs": [],
   "source": [
    "## Won't lead to class balance changes\n",
    "# df_post_col_drop = df_post_na_drop.drop(['collections_12_mths_ex_med', 'pymnt_plan', 'initial_list_status'], axis=1)\n",
    "\n",
    "df = df.drop(['collections_12_mths_ex_med', \n",
    "             'pymnt_plan', \n",
    "             'initial_list_status',\n",
    "             'mths_since_last_record',\n",
    "             'mths_since_last_delinq',\n",
    "             'zip_code'], axis=1)"
   ]
  },
  {
   "cell_type": "markdown",
   "metadata": {},
   "source": [
    "## Drop Outliers/Nonsensical Data"
   ]
  },
  {
   "cell_type": "code",
   "execution_count": 197,
   "metadata": {
    "ExecuteTime": {
     "end_time": "2019-04-26T15:08:05.125188Z",
     "start_time": "2019-04-26T15:08:05.105704Z"
    }
   },
   "outputs": [
    {
     "name": "stdout",
     "output_type": "stream",
     "text": [
      "\n",
      "Class Balance:\n",
      "is_bad\n",
      "0    8677\n",
      "1    1291\n",
      "Name: Id, dtype: int64\n"
     ]
    }
   ],
   "source": [
    "df = df[df['revol_bal'] != 1207359]\n",
    "df = df[df['revol_util'] <= 100]\n",
    "\n",
    "class_balance(df)"
   ]
  },
  {
   "cell_type": "markdown",
   "metadata": {},
   "source": [
    "## Impute Values\n",
    "\n",
    "For a tree based model, I am okay with imputing these values to -1. XGBoost should be able to handle this."
   ]
  },
  {
   "cell_type": "code",
   "execution_count": 198,
   "metadata": {
    "ExecuteTime": {
     "end_time": "2019-04-26T15:08:05.948014Z",
     "start_time": "2019-04-26T15:08:05.945180Z"
    }
   },
   "outputs": [],
   "source": [
    "# df_post_outlier_drop['mths_since_last_record'] = -1\n",
    "# df_post_outlier_drop['mths_since_last_delinq'] = -1"
   ]
  },
  {
   "cell_type": "markdown",
   "metadata": {},
   "source": [
    "## Simplify/Cleanup Categorical Data\n",
    "\n",
    "First pass I am only going to cleanup \"home_ownership\", however, if I have more time, I will clean up the employer names."
   ]
  },
  {
   "cell_type": "code",
   "execution_count": 199,
   "metadata": {
    "ExecuteTime": {
     "end_time": "2019-04-26T15:08:06.911875Z",
     "start_time": "2019-04-26T15:08:06.882847Z"
    }
   },
   "outputs": [
    {
     "data": {
      "text/html": [
       "<div>\n",
       "<style scoped>\n",
       "    .dataframe tbody tr th:only-of-type {\n",
       "        vertical-align: middle;\n",
       "    }\n",
       "\n",
       "    .dataframe tbody tr th {\n",
       "        vertical-align: top;\n",
       "    }\n",
       "\n",
       "    .dataframe thead th {\n",
       "        text-align: right;\n",
       "    }\n",
       "</style>\n",
       "<table border=\"1\" class=\"dataframe\">\n",
       "  <thead>\n",
       "    <tr style=\"text-align: right;\">\n",
       "      <th></th>\n",
       "      <th>Id</th>\n",
       "      <th>is_bad</th>\n",
       "      <th>emp_title</th>\n",
       "      <th>emp_length</th>\n",
       "      <th>annual_inc</th>\n",
       "      <th>verification_status</th>\n",
       "      <th>Notes</th>\n",
       "      <th>purpose_cat</th>\n",
       "      <th>purpose</th>\n",
       "      <th>addr_state</th>\n",
       "      <th>...</th>\n",
       "      <th>delinq_2yrs</th>\n",
       "      <th>inq_last_6mths</th>\n",
       "      <th>open_acc</th>\n",
       "      <th>pub_rec</th>\n",
       "      <th>revol_bal</th>\n",
       "      <th>revol_util</th>\n",
       "      <th>total_acc</th>\n",
       "      <th>mths_since_last_major_derog</th>\n",
       "      <th>policy_code</th>\n",
       "      <th>days_since_earliest_cr_line</th>\n",
       "    </tr>\n",
       "    <tr>\n",
       "      <th>home_ownership</th>\n",
       "      <th></th>\n",
       "      <th></th>\n",
       "      <th></th>\n",
       "      <th></th>\n",
       "      <th></th>\n",
       "      <th></th>\n",
       "      <th></th>\n",
       "      <th></th>\n",
       "      <th></th>\n",
       "      <th></th>\n",
       "      <th></th>\n",
       "      <th></th>\n",
       "      <th></th>\n",
       "      <th></th>\n",
       "      <th></th>\n",
       "      <th></th>\n",
       "      <th></th>\n",
       "      <th></th>\n",
       "      <th></th>\n",
       "      <th></th>\n",
       "      <th></th>\n",
       "    </tr>\n",
       "  </thead>\n",
       "  <tbody>\n",
       "    <tr>\n",
       "      <th>MORTGAGE</th>\n",
       "      <td>4436</td>\n",
       "      <td>4436</td>\n",
       "      <td>4181</td>\n",
       "      <td>4326</td>\n",
       "      <td>4436</td>\n",
       "      <td>4436</td>\n",
       "      <td>3028</td>\n",
       "      <td>4436</td>\n",
       "      <td>4436</td>\n",
       "      <td>4436</td>\n",
       "      <td>...</td>\n",
       "      <td>4436</td>\n",
       "      <td>4436</td>\n",
       "      <td>4436</td>\n",
       "      <td>4436</td>\n",
       "      <td>4436</td>\n",
       "      <td>4436</td>\n",
       "      <td>4436</td>\n",
       "      <td>4436</td>\n",
       "      <td>4436</td>\n",
       "      <td>4436</td>\n",
       "    </tr>\n",
       "    <tr>\n",
       "      <th>OTHER</th>\n",
       "      <td>34</td>\n",
       "      <td>34</td>\n",
       "      <td>33</td>\n",
       "      <td>34</td>\n",
       "      <td>34</td>\n",
       "      <td>34</td>\n",
       "      <td>34</td>\n",
       "      <td>34</td>\n",
       "      <td>34</td>\n",
       "      <td>34</td>\n",
       "      <td>...</td>\n",
       "      <td>34</td>\n",
       "      <td>34</td>\n",
       "      <td>34</td>\n",
       "      <td>34</td>\n",
       "      <td>34</td>\n",
       "      <td>34</td>\n",
       "      <td>34</td>\n",
       "      <td>34</td>\n",
       "      <td>34</td>\n",
       "      <td>34</td>\n",
       "    </tr>\n",
       "    <tr>\n",
       "      <th>OWN</th>\n",
       "      <td>770</td>\n",
       "      <td>770</td>\n",
       "      <td>676</td>\n",
       "      <td>723</td>\n",
       "      <td>770</td>\n",
       "      <td>770</td>\n",
       "      <td>515</td>\n",
       "      <td>770</td>\n",
       "      <td>770</td>\n",
       "      <td>770</td>\n",
       "      <td>...</td>\n",
       "      <td>770</td>\n",
       "      <td>770</td>\n",
       "      <td>770</td>\n",
       "      <td>770</td>\n",
       "      <td>770</td>\n",
       "      <td>770</td>\n",
       "      <td>770</td>\n",
       "      <td>770</td>\n",
       "      <td>770</td>\n",
       "      <td>770</td>\n",
       "    </tr>\n",
       "    <tr>\n",
       "      <th>RENT</th>\n",
       "      <td>4728</td>\n",
       "      <td>4728</td>\n",
       "      <td>4493</td>\n",
       "      <td>4638</td>\n",
       "      <td>4728</td>\n",
       "      <td>4728</td>\n",
       "      <td>3233</td>\n",
       "      <td>4728</td>\n",
       "      <td>4728</td>\n",
       "      <td>4728</td>\n",
       "      <td>...</td>\n",
       "      <td>4728</td>\n",
       "      <td>4728</td>\n",
       "      <td>4728</td>\n",
       "      <td>4728</td>\n",
       "      <td>4728</td>\n",
       "      <td>4728</td>\n",
       "      <td>4728</td>\n",
       "      <td>4728</td>\n",
       "      <td>4728</td>\n",
       "      <td>4728</td>\n",
       "    </tr>\n",
       "  </tbody>\n",
       "</table>\n",
       "<p>4 rows × 21 columns</p>\n",
       "</div>"
      ],
      "text/plain": [
       "                  Id  is_bad  emp_title  emp_length  annual_inc  \\\n",
       "home_ownership                                                    \n",
       "MORTGAGE        4436    4436       4181        4326        4436   \n",
       "OTHER             34      34         33          34          34   \n",
       "OWN              770     770        676         723         770   \n",
       "RENT            4728    4728       4493        4638        4728   \n",
       "\n",
       "                verification_status  Notes  purpose_cat  purpose  addr_state  \\\n",
       "home_ownership                                                                 \n",
       "MORTGAGE                       4436   3028         4436     4436        4436   \n",
       "OTHER                            34     34           34       34          34   \n",
       "OWN                             770    515          770      770         770   \n",
       "RENT                           4728   3233         4728     4728        4728   \n",
       "\n",
       "                ...  delinq_2yrs  inq_last_6mths  open_acc  pub_rec  \\\n",
       "home_ownership  ...                                                   \n",
       "MORTGAGE        ...         4436            4436      4436     4436   \n",
       "OTHER           ...           34              34        34       34   \n",
       "OWN             ...          770             770       770      770   \n",
       "RENT            ...         4728            4728      4728     4728   \n",
       "\n",
       "                revol_bal  revol_util  total_acc  mths_since_last_major_derog  \\\n",
       "home_ownership                                                                  \n",
       "MORTGAGE             4436        4436       4436                         4436   \n",
       "OTHER                  34          34         34                           34   \n",
       "OWN                   770         770        770                          770   \n",
       "RENT                 4728        4728       4728                         4728   \n",
       "\n",
       "                policy_code  days_since_earliest_cr_line  \n",
       "home_ownership                                            \n",
       "MORTGAGE               4436                         4436  \n",
       "OTHER                    34                           34  \n",
       "OWN                     770                          770  \n",
       "RENT                   4728                         4728  \n",
       "\n",
       "[4 rows x 21 columns]"
      ]
     },
     "execution_count": 199,
     "metadata": {},
     "output_type": "execute_result"
    }
   ],
   "source": [
    "df.groupby(['home_ownership']).count()"
   ]
  },
  {
   "cell_type": "code",
   "execution_count": 200,
   "metadata": {
    "ExecuteTime": {
     "end_time": "2019-04-26T15:08:07.922455Z",
     "start_time": "2019-04-26T15:08:07.913452Z"
    }
   },
   "outputs": [
    {
     "name": "stdout",
     "output_type": "stream",
     "text": [
      "\n",
      "Class Balance:\n",
      "is_bad\n",
      "0    30\n",
      "1     4\n",
      "Name: Id, dtype: int64\n"
     ]
    }
   ],
   "source": [
    "class_balance(df[df['home_ownership'] == 'OTHER'])"
   ]
  },
  {
   "cell_type": "code",
   "execution_count": 201,
   "metadata": {
    "ExecuteTime": {
     "end_time": "2019-04-26T15:08:08.795009Z",
     "start_time": "2019-04-26T15:08:08.386011Z"
    }
   },
   "outputs": [],
   "source": [
    "value_map = {\n",
    "    'VERIFIED - income': 'VERIFIED - income',\n",
    "    'VERIFIED - income source': 'VERIFIED - income',\n",
    "    'not verified': 'not verified'\n",
    "}\n",
    "df['verification_status'] = [value_map[x] for x in df['verification_status']]"
   ]
  },
  {
   "cell_type": "code",
   "execution_count": 219,
   "metadata": {
    "ExecuteTime": {
     "end_time": "2019-04-26T15:15:46.831170Z",
     "start_time": "2019-04-26T15:15:46.803911Z"
    }
   },
   "outputs": [
    {
     "data": {
      "text/plain": [
       "purpose_cat\n",
       "debt consolidation                   4448\n",
       "other                                1304\n",
       "credit card                          1271\n",
       "home improvement                      798\n",
       "major purchase                        546\n",
       "small business                        458\n",
       "car                                   348\n",
       "wedding                               249\n",
       "medical                               183\n",
       "moving                                156\n",
       "educational                           106\n",
       "debt consolidation small business     101\n",
       "Name: Id, dtype: int64"
      ]
     },
     "execution_count": 219,
     "metadata": {},
     "output_type": "execute_result"
    }
   ],
   "source": [
    "## Mapping smaller number of \n",
    "purpose_cat_count = df.groupby(['purpose_cat']).count().sort_values('Id', ascending=False)['Id']\n",
    "valid_values = list(purpose_cat_count[purpose_cat_count > 100].index)\n",
    "\n",
    "df['purpose_cat'] = [purpose if purpose in valid_values else 'other' for purpose in df['purpose_cat']]\n",
    "\n",
    "new_purpose_cat_counts = df.groupby(['purpose_cat']).count().sort_values('Id', ascending=False)['Id']\n",
    "new_purpose_cat_counts"
   ]
  },
  {
   "cell_type": "markdown",
   "metadata": {},
   "source": [
    "## Dropping Unused Columns"
   ]
  },
  {
   "cell_type": "code",
   "execution_count": 59,
   "metadata": {
    "ExecuteTime": {
     "end_time": "2019-04-26T01:28:25.778013Z",
     "start_time": "2019-04-26T01:28:25.771323Z"
    }
   },
   "outputs": [],
   "source": [
    "df = df.drop(['emp_title', 'Notes','purpose', 'purpose_cat'], axis=1)"
   ]
  },
  {
   "cell_type": "markdown",
   "metadata": {},
   "source": [
    "## Output to Pickle"
   ]
  },
  {
   "cell_type": "code",
   "execution_count": 182,
   "metadata": {
    "ExecuteTime": {
     "end_time": "2019-04-26T02:32:14.104199Z",
     "start_time": "2019-04-26T02:32:14.091217Z"
    }
   },
   "outputs": [],
   "source": [
    "from sklearn.model_selection import train_test_split\n",
    "from sklearn.preprocessing import OneHotEncoder\n",
    "from sklearn.model_selection import StratifiedKFold\n",
    "\n",
    "\n",
    "class XGBoostModelData:\n",
    "    \n",
    "    def __init__(self, X, y, test_size=0.15, random_state=1234):\n",
    "        self.test_size = test_size\n",
    "        self.random_state = random_state      \n",
    "        self.X_raw = X\n",
    "        self.y_raw = y\n",
    "        self.transform()\n",
    "        self.X_train, self.X_validate, self.y_train, self.y_validate = train_test_split(self.X_transformed, \n",
    "                                                                                y, \n",
    "                                                                                test_size=test_size, \n",
    "                                                                                stratify=y, \n",
    "                                                                                random_state=random_state)\n",
    "        self._create_k_folds(k=5)\n",
    "        \n",
    "    def transform(self):\n",
    "        self.X_transformed = self._create_categorical_dummies()\n",
    "        \n",
    "    def _create_categorical_dummies(self):\n",
    "        df_transform = self.X_raw.copy()\n",
    "        \n",
    "        numerics = ['int16', 'int32', 'int64', 'float16', 'float32', 'float64']\n",
    "        categorical_columns = df_transform.select_dtypes(exclude=numerics)\n",
    "        \n",
    "        for col in categorical_columns:\n",
    "            dummies = pd.get_dummies(categorical_columns[col])\n",
    "            df_transform = df_transform.drop(col, axis=1)\n",
    "            df_transform = pd.concat([df_transform, dummies], axis=1)\n",
    "            \n",
    "        return df_transform\n",
    "    \n",
    "    def _create_k_folds(self, k=5):\n",
    "        skf = StratifiedKFold(n_splits=k, random_state=self.random_state, shuffle=True)\n",
    "        i = 0\n",
    "        self.k_folds = {}\n",
    "        for train, test in skf.split(self.X_train, self.y_train):\n",
    "            self.k_folds['fold_{}'.format(i)] = {\n",
    "                'X_train':self.X_train.iloc[train],\n",
    "                'y_train':self.y_train.iloc[train],\n",
    "                'X_test':self.X_train.iloc[test],\n",
    "                'y_test':self.y_train.iloc[test],\n",
    "            }\n",
    "            i+=1"
   ]
  },
  {
   "cell_type": "code",
   "execution_count": 185,
   "metadata": {
    "ExecuteTime": {
     "end_time": "2019-04-26T02:33:21.664739Z",
     "start_time": "2019-04-26T02:33:21.601277Z"
    }
   },
   "outputs": [],
   "source": [
    "X=df.drop(['is_bad','Id'], axis=1)\n",
    "y=df['is_bad']\n",
    "\n",
    "xgb_train_validation_data = XGBoostModelData(X,y)\n"
   ]
  },
  {
   "cell_type": "code",
   "execution_count": 188,
   "metadata": {
    "ExecuteTime": {
     "end_time": "2019-04-26T02:33:47.739752Z",
     "start_time": "2019-04-26T02:33:47.709140Z"
    }
   },
   "outputs": [],
   "source": [
    "pickle.dump(df, open('XGBoost_clean_data_all.p', 'wb'))\n",
    "pickle.dump(xgb_train_validation_data, open('xgb_train_validation_data.p', 'wb'))"
   ]
  },
  {
   "cell_type": "markdown",
   "metadata": {},
   "source": [
    "# Transform Data for XGBoost"
   ]
  },
  {
   "cell_type": "markdown",
   "metadata": {},
   "source": [
    "## Categorical Transforms"
   ]
  },
  {
   "cell_type": "code",
   "execution_count": 187,
   "metadata": {
    "ExecuteTime": {
     "end_time": "2019-04-26T02:33:41.663472Z",
     "start_time": "2019-04-26T02:33:41.628983Z"
    }
   },
   "outputs": [],
   "source": []
  },
  {
   "cell_type": "code",
   "execution_count": 172,
   "metadata": {
    "ExecuteTime": {
     "end_time": "2019-04-26T02:25:25.523750Z",
     "start_time": "2019-04-26T02:25:25.507582Z"
    }
   },
   "outputs": [],
   "source": [
    "xgboost_data = pickle.load(open('xgb_train_validation_data.p', 'rb'))"
   ]
  },
  {
   "cell_type": "code",
   "execution_count": 173,
   "metadata": {
    "ExecuteTime": {
     "end_time": "2019-04-26T02:25:28.566825Z",
     "start_time": "2019-04-26T02:25:28.562459Z"
    }
   },
   "outputs": [
    {
     "data": {
      "text/plain": [
       "<__main__.XGBoostModelData at 0x1318456a0>"
      ]
     },
     "execution_count": 173,
     "metadata": {},
     "output_type": "execute_result"
    }
   ],
   "source": []
  },
  {
   "cell_type": "code",
   "execution_count": null,
   "metadata": {},
   "outputs": [],
   "source": []
  }
 ],
 "metadata": {
  "kernelspec": {
   "display_name": "DR_TH",
   "language": "python",
   "name": "py2env"
  },
  "language_info": {
   "codemirror_mode": {
    "name": "ipython",
    "version": 3
   },
   "file_extension": ".py",
   "mimetype": "text/x-python",
   "name": "python",
   "nbconvert_exporter": "python",
   "pygments_lexer": "ipython3",
   "version": "3.7.1"
  },
  "toc": {
   "colors": {
    "hover_highlight": "#DAA520",
    "navigate_num": "#000000",
    "navigate_text": "#333333",
    "running_highlight": "#FF0000",
    "selected_highlight": "#FFD700",
    "sidebar_border": "#EEEEEE",
    "wrapper_background": "#FFFFFF"
   },
   "moveMenuLeft": true,
   "nav_menu": {
    "height": "156px",
    "width": "252px"
   },
   "navigate_menu": true,
   "number_sections": true,
   "sideBar": true,
   "threshold": 4,
   "toc_cell": false,
   "toc_section_display": "block",
   "toc_window_display": false,
   "widenNotebook": false
  }
 },
 "nbformat": 4,
 "nbformat_minor": 2
}
