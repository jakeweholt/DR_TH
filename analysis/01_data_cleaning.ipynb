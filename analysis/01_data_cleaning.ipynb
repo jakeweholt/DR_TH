{
 "cells": [
  {
   "cell_type": "markdown",
   "metadata": {},
   "source": [
    "## Data Cleaning Summary\n",
    "\n",
    "This notebook will explain how the data cleaning is done in the model. Model data cleaning code can be found in the `model/data_processing` directory.\n",
    "\n",
    "### Drop N/A Values from these columns\n",
    "- delinq_2yrs\n",
    "- days_since_earliest_cr_line\n",
    "- inq_last_6mths\n",
    "- open_acc\n",
    "- pub_rec\n",
    "- total_acc\n",
    "- revol_util\n",
    "- purpose\n",
    "- annual_inc\n",
    "- emp_length\n",
    "\n",
    "\n",
    "### Drop Columns\n",
    "- collections_12_mths_ex_med\n",
    "    - All values are either 0 or N/A\n",
    "- pymnt_plan, \n",
    "- initial_list_status\n",
    "    - Huge imbalances, will likely lead to overfitting. Double check.\n",
    "- mths_since_last_record\n",
    "    - Large number of N/A values, not immediately clear how to impute. Noted for a later version of the model.\n",
    "- mths_since_last_delinq\n",
    "    - Large number of N/A values, not immediately clear how to impute. Noted for a later version of the model.\n",
    "- zip_code\n",
    "    - Not informative in model testing, removing for V1.\n",
    "- addr_state\n",
    "    - The data in this column is just to sparse for V1.\n",
    "- emp_title\n",
    "    - Will not make it into V1.\n",
    "\n",
    "    \n",
    "### Drop Outliers/Nonsensical Data\n",
    "- revol_bal == 1207359, this is an outlier value.\n",
    "- revol_util > 100\n",
    "\n",
    "### Simplify/Cleanup Categorical Data\n",
    "- emp_title\n",
    "    - This can be dramatically cleaned up, but is going to be dropped from V1\n",
    "- home_ownership, verification_status\n",
    "    - Simplify\n",
    "\n",
    "### Distill Commentary (extra)\n",
    "- Notes\n",
    "    - Will likely drop for V1.\n",
    "- purpose\n",
    "    - Will likely drop and use purpose_cat instead.\n",
    "- purpose_cat\n",
    "    - Will choose cutoff count (<100) and map all those values to an 'other' bucket.\n",
    "\n",
    "\n",
    "## Final Transforms\n",
    "- Dummies will be created for categorical values."
   ]
  },
  {
   "cell_type": "code",
   "execution_count": 1,
   "metadata": {
    "ExecuteTime": {
     "end_time": "2019-04-29T21:36:00.499902Z",
     "start_time": "2019-04-29T21:35:59.809043Z"
    }
   },
   "outputs": [],
   "source": [
    "import datetime\n",
    "import numpy as np\n",
    "import pandas as pd\n",
    "import pickle\n",
    "\n",
    "df = pd.read_csv('../data/DR_Demo_Lending_Club.csv')\n",
    "orig_df_length = len(df)"
   ]
  },
  {
   "cell_type": "code",
   "execution_count": 2,
   "metadata": {
    "ExecuteTime": {
     "end_time": "2019-04-29T21:36:01.461764Z",
     "start_time": "2019-04-29T21:36:00.502799Z"
    }
   },
   "outputs": [],
   "source": [
    "## Create new variable from earliest_cr_line(datetime) = \n",
    "## current_date - earliest_cr_line = days since earliest credit line\n",
    "current_date = datetime.datetime.now().replace(hour=0, minute=0, second=0, microsecond=0)\n",
    "\n",
    "df['earliest_cr_line'] = pd.to_datetime(df['earliest_cr_line'])\n",
    "df['days_since_earliest_cr_line'] = (current_date - df['earliest_cr_line']).dt.days\n",
    "df = df.drop('earliest_cr_line', axis=1)"
   ]
  },
  {
   "cell_type": "code",
   "execution_count": 3,
   "metadata": {
    "ExecuteTime": {
     "end_time": "2019-04-29T21:36:01.476055Z",
     "start_time": "2019-04-29T21:36:01.464345Z"
    }
   },
   "outputs": [],
   "source": [
    "## Convert emp_length to float64 from str.\n",
    "df.loc[df['emp_length'] == 'na', 'emp_length'] = np.nan\n",
    "df['emp_length'] = df['emp_length'].astype('float64')"
   ]
  },
  {
   "cell_type": "code",
   "execution_count": 4,
   "metadata": {
    "ExecuteTime": {
     "end_time": "2019-04-29T21:36:01.495196Z",
     "start_time": "2019-04-29T21:36:01.478891Z"
    }
   },
   "outputs": [
    {
     "name": "stdout",
     "output_type": "stream",
     "text": [
      "Rows dropped: 30\n",
      "New data length: 9970\n"
     ]
    }
   ],
   "source": [
    "## Drop NA Values from the following columns\n",
    "drop_na_value_columns = ['delinq_2yrs',\n",
    "'days_since_earliest_cr_line',\n",
    "'inq_last_6mths',\n",
    "'open_acc',\n",
    "'pub_rec',\n",
    "'total_acc',\n",
    "'revol_util',\n",
    "'purpose',\n",
    "'annual_inc']\n",
    "\n",
    "df = df.dropna(axis=0, subset=drop_na_value_columns)\n",
    "print('Rows dropped: {}'.format(orig_df_length - len(df)))\n",
    "print('New data length: {}'.format(len(df)))"
   ]
  },
  {
   "cell_type": "code",
   "execution_count": 5,
   "metadata": {
    "ExecuteTime": {
     "end_time": "2019-04-29T21:36:01.503603Z",
     "start_time": "2019-04-29T21:36:01.497295Z"
    }
   },
   "outputs": [],
   "source": [
    "## Dropping the following for V1 of the model\n",
    "df = df.drop(['collections_12_mths_ex_med', \n",
    "             'pymnt_plan', \n",
    "             'initial_list_status',\n",
    "             'mths_since_last_record',\n",
    "             'mths_since_last_delinq',\n",
    "             'zip_code',\n",
    "             'addr_state'], axis=1)"
   ]
  },
  {
   "cell_type": "code",
   "execution_count": 6,
   "metadata": {
    "ExecuteTime": {
     "end_time": "2019-04-29T21:36:01.512747Z",
     "start_time": "2019-04-29T21:36:01.506323Z"
    }
   },
   "outputs": [],
   "source": [
    "## Dropping very specific outliers/non-sensical rows\n",
    "df = df[df['revol_util'] <= 100]"
   ]
  },
  {
   "cell_type": "code",
   "execution_count": 7,
   "metadata": {
    "ExecuteTime": {
     "end_time": "2019-04-29T21:36:01.545858Z",
     "start_time": "2019-04-29T21:36:01.514761Z"
    }
   },
   "outputs": [],
   "source": [
    "## Creating mapping to consolidate 'VERIFIED - income' and 'VERIFIED - income source' as simply ''VERIFIED - income'\n",
    "value_map = {\n",
    "    'VERIFIED - income': 'VERIFIED - income',\n",
    "    'VERIFIED - income source': 'VERIFIED - income',\n",
    "    'not verified': 'not verified'\n",
    "}\n",
    "df['verification_status'] = [value_map[x] for x in df['verification_status']]"
   ]
  },
  {
   "cell_type": "code",
   "execution_count": 8,
   "metadata": {
    "ExecuteTime": {
     "end_time": "2019-04-29T21:36:01.570029Z",
     "start_time": "2019-04-29T21:36:01.549320Z"
    }
   },
   "outputs": [],
   "source": [
    "## Mapping lower represented groups to an 'other' bucket\n",
    "purpose_cat_count = df.groupby(['purpose_cat']).count().sort_values('Id', ascending=False)['Id']\n",
    "valid_values = list(purpose_cat_count[purpose_cat_count > 100].index)\n",
    "df['purpose_cat'] = [purpose if purpose in valid_values else 'other' for purpose in df['purpose_cat']]\n"
   ]
  },
  {
   "cell_type": "code",
   "execution_count": 9,
   "metadata": {
    "ExecuteTime": {
     "end_time": "2019-04-29T21:36:01.585882Z",
     "start_time": "2019-04-29T21:36:01.573111Z"
    }
   },
   "outputs": [
    {
     "data": {
      "text/plain": [
       "['debt consolidation',\n",
       " 'credit card',\n",
       " 'other',\n",
       " 'home improvement',\n",
       " 'major purchase',\n",
       " 'small business',\n",
       " 'car',\n",
       " 'wedding',\n",
       " 'medical',\n",
       " 'moving',\n",
       " 'educational',\n",
       " 'debt consolidation small business']"
      ]
     },
     "execution_count": 9,
     "metadata": {},
     "output_type": "execute_result"
    }
   ],
   "source": [
    "valid_values"
   ]
  },
  {
   "cell_type": "code",
   "execution_count": 10,
   "metadata": {
    "ExecuteTime": {
     "end_time": "2019-04-29T21:36:01.595601Z",
     "start_time": "2019-04-29T21:36:01.589206Z"
    }
   },
   "outputs": [],
   "source": [
    "## Dropping following text columns for V1\n",
    "df = df.drop(['emp_title', 'Notes','purpose'], axis=1)"
   ]
  },
  {
   "cell_type": "code",
   "execution_count": 11,
   "metadata": {
    "ExecuteTime": {
     "end_time": "2019-04-29T21:36:01.636558Z",
     "start_time": "2019-04-29T21:36:01.597840Z"
    }
   },
   "outputs": [
    {
     "name": "stdout",
     "output_type": "stream",
     "text": [
      "home_ownership\n",
      "verification_status\n",
      "purpose_cat\n",
      "policy_code\n"
     ]
    }
   ],
   "source": [
    "## Splitting out categorical data to dummies:\n",
    "numerics = ['int16', 'int32', 'int64', 'float16', 'float32', 'float64']\n",
    "categorical_columns = df.select_dtypes(exclude=numerics)\n",
    "\n",
    "for col in categorical_columns:\n",
    "    dummies = pd.get_dummies(categorical_columns[col])\n",
    "    df = df.drop(col, axis=1)\n",
    "    df = pd.concat([df, dummies], axis=1)\n",
    "    print(col)"
   ]
  },
  {
   "cell_type": "code",
   "execution_count": 12,
   "metadata": {
    "ExecuteTime": {
     "end_time": "2019-04-29T21:36:01.671669Z",
     "start_time": "2019-04-29T21:36:01.639405Z"
    }
   },
   "outputs": [
    {
     "data": {
      "text/html": [
       "<div>\n",
       "<style scoped>\n",
       "    .dataframe tbody tr th:only-of-type {\n",
       "        vertical-align: middle;\n",
       "    }\n",
       "\n",
       "    .dataframe tbody tr th {\n",
       "        vertical-align: top;\n",
       "    }\n",
       "\n",
       "    .dataframe thead th {\n",
       "        text-align: right;\n",
       "    }\n",
       "</style>\n",
       "<table border=\"1\" class=\"dataframe\">\n",
       "  <thead>\n",
       "    <tr style=\"text-align: right;\">\n",
       "      <th></th>\n",
       "      <th>Id</th>\n",
       "      <th>is_bad</th>\n",
       "      <th>emp_length</th>\n",
       "      <th>annual_inc</th>\n",
       "      <th>debt_to_income</th>\n",
       "      <th>delinq_2yrs</th>\n",
       "      <th>inq_last_6mths</th>\n",
       "      <th>open_acc</th>\n",
       "      <th>pub_rec</th>\n",
       "      <th>revol_bal</th>\n",
       "      <th>...</th>\n",
       "      <th>medical</th>\n",
       "      <th>moving</th>\n",
       "      <th>other</th>\n",
       "      <th>small business</th>\n",
       "      <th>wedding</th>\n",
       "      <th>PC1</th>\n",
       "      <th>PC2</th>\n",
       "      <th>PC3</th>\n",
       "      <th>PC4</th>\n",
       "      <th>PC5</th>\n",
       "    </tr>\n",
       "  </thead>\n",
       "  <tbody>\n",
       "    <tr>\n",
       "      <th>0</th>\n",
       "      <td>1</td>\n",
       "      <td>0</td>\n",
       "      <td>10.0</td>\n",
       "      <td>50000.0</td>\n",
       "      <td>10.87</td>\n",
       "      <td>0.0</td>\n",
       "      <td>0.0</td>\n",
       "      <td>15.0</td>\n",
       "      <td>0.0</td>\n",
       "      <td>12087</td>\n",
       "      <td>...</td>\n",
       "      <td>1</td>\n",
       "      <td>0</td>\n",
       "      <td>0</td>\n",
       "      <td>0</td>\n",
       "      <td>0</td>\n",
       "      <td>0</td>\n",
       "      <td>0</td>\n",
       "      <td>0</td>\n",
       "      <td>1</td>\n",
       "      <td>0</td>\n",
       "    </tr>\n",
       "    <tr>\n",
       "      <th>1</th>\n",
       "      <td>2</td>\n",
       "      <td>0</td>\n",
       "      <td>1.0</td>\n",
       "      <td>39216.0</td>\n",
       "      <td>9.15</td>\n",
       "      <td>0.0</td>\n",
       "      <td>2.0</td>\n",
       "      <td>4.0</td>\n",
       "      <td>0.0</td>\n",
       "      <td>10114</td>\n",
       "      <td>...</td>\n",
       "      <td>0</td>\n",
       "      <td>0</td>\n",
       "      <td>0</td>\n",
       "      <td>0</td>\n",
       "      <td>0</td>\n",
       "      <td>1</td>\n",
       "      <td>0</td>\n",
       "      <td>0</td>\n",
       "      <td>0</td>\n",
       "      <td>0</td>\n",
       "    </tr>\n",
       "    <tr>\n",
       "      <th>2</th>\n",
       "      <td>3</td>\n",
       "      <td>0</td>\n",
       "      <td>4.0</td>\n",
       "      <td>65000.0</td>\n",
       "      <td>11.24</td>\n",
       "      <td>0.0</td>\n",
       "      <td>0.0</td>\n",
       "      <td>4.0</td>\n",
       "      <td>0.0</td>\n",
       "      <td>81</td>\n",
       "      <td>...</td>\n",
       "      <td>0</td>\n",
       "      <td>0</td>\n",
       "      <td>0</td>\n",
       "      <td>0</td>\n",
       "      <td>0</td>\n",
       "      <td>0</td>\n",
       "      <td>0</td>\n",
       "      <td>0</td>\n",
       "      <td>1</td>\n",
       "      <td>0</td>\n",
       "    </tr>\n",
       "    <tr>\n",
       "      <th>3</th>\n",
       "      <td>4</td>\n",
       "      <td>0</td>\n",
       "      <td>10.0</td>\n",
       "      <td>57500.0</td>\n",
       "      <td>6.18</td>\n",
       "      <td>1.0</td>\n",
       "      <td>0.0</td>\n",
       "      <td>6.0</td>\n",
       "      <td>0.0</td>\n",
       "      <td>10030</td>\n",
       "      <td>...</td>\n",
       "      <td>0</td>\n",
       "      <td>0</td>\n",
       "      <td>0</td>\n",
       "      <td>0</td>\n",
       "      <td>0</td>\n",
       "      <td>0</td>\n",
       "      <td>1</td>\n",
       "      <td>0</td>\n",
       "      <td>0</td>\n",
       "      <td>0</td>\n",
       "    </tr>\n",
       "    <tr>\n",
       "      <th>4</th>\n",
       "      <td>5</td>\n",
       "      <td>0</td>\n",
       "      <td>10.0</td>\n",
       "      <td>50004.0</td>\n",
       "      <td>19.03</td>\n",
       "      <td>0.0</td>\n",
       "      <td>4.0</td>\n",
       "      <td>8.0</td>\n",
       "      <td>0.0</td>\n",
       "      <td>10740</td>\n",
       "      <td>...</td>\n",
       "      <td>0</td>\n",
       "      <td>0</td>\n",
       "      <td>0</td>\n",
       "      <td>0</td>\n",
       "      <td>0</td>\n",
       "      <td>0</td>\n",
       "      <td>0</td>\n",
       "      <td>1</td>\n",
       "      <td>0</td>\n",
       "      <td>0</td>\n",
       "    </tr>\n",
       "  </tbody>\n",
       "</table>\n",
       "<p>5 rows × 37 columns</p>\n",
       "</div>"
      ],
      "text/plain": [
       "   Id  is_bad  emp_length  annual_inc  debt_to_income  delinq_2yrs  \\\n",
       "0   1       0        10.0     50000.0           10.87          0.0   \n",
       "1   2       0         1.0     39216.0            9.15          0.0   \n",
       "2   3       0         4.0     65000.0           11.24          0.0   \n",
       "3   4       0        10.0     57500.0            6.18          1.0   \n",
       "4   5       0        10.0     50004.0           19.03          0.0   \n",
       "\n",
       "   inq_last_6mths  open_acc  pub_rec  revol_bal  ...  medical  moving  other  \\\n",
       "0             0.0      15.0      0.0      12087  ...        1       0      0   \n",
       "1             2.0       4.0      0.0      10114  ...        0       0      0   \n",
       "2             0.0       4.0      0.0         81  ...        0       0      0   \n",
       "3             0.0       6.0      0.0      10030  ...        0       0      0   \n",
       "4             4.0       8.0      0.0      10740  ...        0       0      0   \n",
       "\n",
       "   small business  wedding  PC1  PC2  PC3  PC4  PC5  \n",
       "0               0        0    0    0    0    1    0  \n",
       "1               0        0    1    0    0    0    0  \n",
       "2               0        0    0    0    0    1    0  \n",
       "3               0        0    0    1    0    0    0  \n",
       "4               0        0    0    0    1    0    0  \n",
       "\n",
       "[5 rows x 37 columns]"
      ]
     },
     "execution_count": 12,
     "metadata": {},
     "output_type": "execute_result"
    }
   ],
   "source": [
    "## Final df:\n",
    "df.head()"
   ]
  }
 ],
 "metadata": {
  "kernelspec": {
   "display_name": "DR_TH",
   "language": "python",
   "name": "py2env"
  },
  "language_info": {
   "codemirror_mode": {
    "name": "ipython",
    "version": 3
   },
   "file_extension": ".py",
   "mimetype": "text/x-python",
   "name": "python",
   "nbconvert_exporter": "python",
   "pygments_lexer": "ipython3",
   "version": "3.7.1"
  },
  "toc": {
   "colors": {
    "hover_highlight": "#DAA520",
    "navigate_num": "#000000",
    "navigate_text": "#333333",
    "running_highlight": "#FF0000",
    "selected_highlight": "#FFD700",
    "sidebar_border": "#EEEEEE",
    "wrapper_background": "#FFFFFF"
   },
   "moveMenuLeft": true,
   "nav_menu": {
    "height": "153px",
    "width": "252px"
   },
   "navigate_menu": true,
   "number_sections": true,
   "sideBar": true,
   "threshold": 4,
   "toc_cell": false,
   "toc_section_display": "block",
   "toc_window_display": false,
   "widenNotebook": false
  }
 },
 "nbformat": 4,
 "nbformat_minor": 2
}
