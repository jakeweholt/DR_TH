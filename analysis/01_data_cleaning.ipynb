{
 "cells": [
  {
   "cell_type": "markdown",
   "metadata": {},
   "source": [
    "## Data Cleaning Summary\n",
    "\n",
    "### Drop N/A Values\n",
    "- delinq_2yrs \n",
    "- earliest_cr_line\n",
    "- inq_last_6mths\n",
    "- open_acc \n",
    "- pub_rec\n",
    "- total_acc\n",
    "- revol_util\n",
    "- purpose\n",
    "- annual_inc\n",
    "\n",
    "### Drop Columns\n",
    "- collections_12_mths_ex_med\n",
    "    - All values are either 0 or N/A\n",
    "- pymnt_plan, initial_list_status\n",
    "    - Huge imbalances, will likely lead to overfitting. Double check.\n",
    "\n",
    "### Impute Values\n",
    "- mths_since_last_record\n",
    "- mths_since_last_delinq\n",
    "\n",
    "### Simplify/Cleanup Categorical Data\n",
    "- emp_title\n",
    "    - This can be dramatically cleaned up.\n",
    "- home_ownership, verification_status\n",
    "    - Simplify\n",
    "\n",
    "### Drop Outliers/Nonsensical Data\n",
    "- revol_bal == 1207359, this is an outlier value.\n",
    "- revol_util > 100\n",
    "\n",
    "### Distill Commentary\n",
    "- Notes\n",
    "- purpose\n",
    "- purpose_cat"
   ]
  },
  {
   "cell_type": "code",
   "execution_count": 2,
   "metadata": {
    "ExecuteTime": {
     "end_time": "2019-04-24T05:25:42.991385Z",
     "start_time": "2019-04-24T05:25:42.537053Z"
    }
   },
   "outputs": [],
   "source": [
    "import pandas as pd"
   ]
  },
  {
   "cell_type": "code",
   "execution_count": 25,
   "metadata": {
    "ExecuteTime": {
     "end_time": "2019-04-24T05:30:27.948185Z",
     "start_time": "2019-04-24T05:30:27.859696Z"
    }
   },
   "outputs": [],
   "source": [
    "df = pd.read_csv('../data/DR_Demo_Lending_Club.csv')"
   ]
  },
  {
   "cell_type": "code",
   "execution_count": 30,
   "metadata": {
    "ExecuteTime": {
     "end_time": "2019-04-24T05:30:50.060053Z",
     "start_time": "2019-04-24T05:30:50.056318Z"
    }
   },
   "outputs": [],
   "source": [
    "## Helper Functions\n",
    "\n",
    "def class_balance(df):\n",
    "    print()\n",
    "    print('Class Balance:')\n",
    "    print(df.groupby('is_bad').count()['Id'])"
   ]
  },
  {
   "cell_type": "markdown",
   "metadata": {},
   "source": [
    "## Drop NA Values"
   ]
  },
  {
   "cell_type": "code",
   "execution_count": 32,
   "metadata": {
    "ExecuteTime": {
     "end_time": "2019-04-24T05:31:15.917359Z",
     "start_time": "2019-04-24T05:31:15.890764Z"
    }
   },
   "outputs": [
    {
     "name": "stdout",
     "output_type": "stream",
     "text": [
      "Rows dropped: 30\n",
      "New data length: 9970\n",
      "\n",
      "Class Balance:\n",
      "is_bad\n",
      "0    8679\n",
      "1    1291\n",
      "Name: Id, dtype: int64\n"
     ]
    }
   ],
   "source": [
    "drop_na_columns = ['delinq_2yrs',\n",
    "'earliest_cr_line',\n",
    "'inq_last_6mths',\n",
    "'open_acc',\n",
    "'pub_rec',\n",
    "'total_acc',\n",
    "'revol_util',\n",
    "'purpose',\n",
    "'annual_inc']\n",
    "\n",
    "df_post_na_drop = df.dropna(axis=0, subset=drop_na_columns)\n",
    "\n",
    "print('Rows dropped: {}'.format((len(df) - len(df_post_na_drop))))\n",
    "print('New data length: {}'.format(len(df_post_na_drop)))\n",
    "\n",
    "class_balance(df_post_na_drop)"
   ]
  },
  {
   "cell_type": "code",
   "execution_count": null,
   "metadata": {
    "ExecuteTime": {
     "end_time": "2019-04-24T05:28:28.886094Z",
     "start_time": "2019-04-24T05:28:28.871253Z"
    }
   },
   "outputs": [],
   "source": []
  },
  {
   "cell_type": "code",
   "execution_count": null,
   "metadata": {
    "ExecuteTime": {
     "end_time": "2019-04-24T05:28:40.213619Z",
     "start_time": "2019-04-24T05:28:40.197338Z"
    }
   },
   "outputs": [],
   "source": []
  },
  {
   "cell_type": "code",
   "execution_count": null,
   "metadata": {},
   "outputs": [],
   "source": []
  }
 ],
 "metadata": {
  "kernelspec": {
   "display_name": "DR_TH",
   "language": "python",
   "name": "py2env"
  },
  "language_info": {
   "codemirror_mode": {
    "name": "ipython",
    "version": 3
   },
   "file_extension": ".py",
   "mimetype": "text/x-python",
   "name": "python",
   "nbconvert_exporter": "python",
   "pygments_lexer": "ipython3",
   "version": "3.7.1"
  },
  "toc": {
   "colors": {
    "hover_highlight": "#DAA520",
    "navigate_num": "#000000",
    "navigate_text": "#333333",
    "running_highlight": "#FF0000",
    "selected_highlight": "#FFD700",
    "sidebar_border": "#EEEEEE",
    "wrapper_background": "#FFFFFF"
   },
   "moveMenuLeft": true,
   "nav_menu": {
    "height": "156px",
    "width": "252px"
   },
   "navigate_menu": true,
   "number_sections": true,
   "sideBar": true,
   "threshold": 4,
   "toc_cell": false,
   "toc_section_display": "block",
   "toc_window_display": false,
   "widenNotebook": false
  }
 },
 "nbformat": 4,
 "nbformat_minor": 2
}
