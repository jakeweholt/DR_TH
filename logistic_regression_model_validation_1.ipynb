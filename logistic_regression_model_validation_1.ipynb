{
 "cells": [
  {
   "cell_type": "markdown",
   "metadata": {},
   "source": [
    "## Model Validation\n",
    "\n",
    "#### Validation Measures:\n",
    "\n",
    "Accuracy = $\\frac{\\sum(y_{true} == y_{predicted})}{len(y_{true})}$\n",
    "\n",
    "Precision = $\\frac{tp}{tp+fp}$, of the loans the model flags as \"is_bad\", what percentage will actually default?\n",
    "\n",
    "Recall = $\\frac{tp}{tp+fn}$, of all the loans that default, what percentage did the model catch?\n",
    "\n",
    "F1-Score = $\\frac{2 * (precision * recall)}{(precision + recall)}$, If precision and recall = 1, then F1-Score will equal 1. Best value = 1, worst value = 0."
   ]
  },
  {
   "cell_type": "code",
   "execution_count": 1,
   "metadata": {
    "ExecuteTime": {
     "end_time": "2019-04-29T21:11:16.183409Z",
     "start_time": "2019-04-29T21:11:16.180336Z"
    }
   },
   "outputs": [],
   "source": [
    "model_type = 'logistic_regression_model_1'\n",
    "version = '0.1.1556570371'"
   ]
  },
  {
   "cell_type": "code",
   "execution_count": 2,
   "metadata": {
    "ExecuteTime": {
     "end_time": "2019-04-29T21:11:17.308522Z",
     "start_time": "2019-04-29T21:11:16.187281Z"
    }
   },
   "outputs": [],
   "source": [
    "from sklearn.metrics import precision_score, recall_score, f1_score\n",
    "import matplotlib.pyplot as plt\n",
    "import numpy as np\n",
    "import pandas as pd\n",
    "import pickle"
   ]
  },
  {
   "cell_type": "code",
   "execution_count": 3,
   "metadata": {
    "ExecuteTime": {
     "end_time": "2019-04-29T21:11:17.317265Z",
     "start_time": "2019-04-29T21:11:17.311104Z"
    }
   },
   "outputs": [],
   "source": [
    "def validate_metrics(y_true, y_pred):\n",
    "\n",
    "    accuracy = sum([y1==y2 for y1,y2 in zip(y_true.values, y_pred)])/len(y_true)\n",
    "    precision = precision_score(y_true=y_true, y_pred=y_pred)\n",
    "    recall = recall_score(y_true=y_true, y_pred=y_pred)\n",
    "    f_score  = f1_score(y_true=y_true, y_pred=y_pred)\n",
    "    \n",
    "    print('F-Score: %f' % f_score)\n",
    "    print('Additional Metrics:')\n",
    "    print('  Accuracy:  %f' % accuracy)\n",
    "    print('  Precision: %f' % precision)\n",
    "    print('  Recall:    %f' % recall)\n",
    "    \n",
    "    print(sum(y_pred))"
   ]
  },
  {
   "cell_type": "code",
   "execution_count": 4,
   "metadata": {
    "ExecuteTime": {
     "end_time": "2019-04-29T21:11:17.323827Z",
     "start_time": "2019-04-29T21:11:17.320520Z"
    }
   },
   "outputs": [],
   "source": [
    "filepath = '../saved_models/{}/{}/'.format(model_type, version)"
   ]
  },
  {
   "cell_type": "markdown",
   "metadata": {},
   "source": [
    "### High Level Model Metrics"
   ]
  },
  {
   "cell_type": "code",
   "execution_count": 5,
   "metadata": {
    "ExecuteTime": {
     "end_time": "2019-04-29T21:11:17.581190Z",
     "start_time": "2019-04-29T21:11:17.326306Z"
    }
   },
   "outputs": [
    {
     "ename": "FileNotFoundError",
     "evalue": "[Errno 2] No such file or directory: 'saved_models/logistic_regression_model_1/0.1.1556570371/training_data.p'",
     "output_type": "error",
     "traceback": [
      "\u001b[0;31m---------------------------------------------------------------------------\u001b[0m",
      "\u001b[0;31mFileNotFoundError\u001b[0m                         Traceback (most recent call last)",
      "\u001b[0;32m<ipython-input-5-515eaeb88912>\u001b[0m in \u001b[0;36m<module>\u001b[0;34m\u001b[0m\n\u001b[0;32m----> 1\u001b[0;31m \u001b[0mmodel_training_data\u001b[0m \u001b[0;34m=\u001b[0m \u001b[0mpickle\u001b[0m\u001b[0;34m.\u001b[0m\u001b[0mload\u001b[0m\u001b[0;34m(\u001b[0m\u001b[0mopen\u001b[0m\u001b[0;34m(\u001b[0m\u001b[0mfilepath\u001b[0m \u001b[0;34m+\u001b[0m \u001b[0;34m'training_data.p'\u001b[0m\u001b[0;34m,\u001b[0m \u001b[0;34m'rb'\u001b[0m\u001b[0;34m)\u001b[0m\u001b[0;34m)\u001b[0m\u001b[0;34m\u001b[0m\u001b[0;34m\u001b[0m\u001b[0m\n\u001b[0m\u001b[1;32m      2\u001b[0m \u001b[0mmodels_to_validate\u001b[0m \u001b[0;34m=\u001b[0m \u001b[0mdict\u001b[0m\u001b[0;34m(\u001b[0m\u001b[0;34m)\u001b[0m\u001b[0;34m\u001b[0m\u001b[0;34m\u001b[0m\u001b[0m\n\u001b[1;32m      3\u001b[0m \u001b[0;34m\u001b[0m\u001b[0m\n\u001b[1;32m      4\u001b[0m models_to_validate['model_trained_on_validation_split.p'] = {\n\u001b[1;32m      5\u001b[0m     \u001b[0;34m'X'\u001b[0m\u001b[0;34m:\u001b[0m\u001b[0mmodel_training_data\u001b[0m\u001b[0;34m.\u001b[0m\u001b[0mX_validate\u001b[0m\u001b[0;34m,\u001b[0m\u001b[0;34m\u001b[0m\u001b[0;34m\u001b[0m\u001b[0m\n",
      "\u001b[0;31mFileNotFoundError\u001b[0m: [Errno 2] No such file or directory: 'saved_models/logistic_regression_model_1/0.1.1556570371/training_data.p'"
     ]
    }
   ],
   "source": [
    "model_training_data = pickle.load(open(filepath + 'training_data.p', 'rb'))\n",
    "models_to_validate = dict()\n",
    "\n",
    "models_to_validate['model_trained_on_validation_split.p'] = {\n",
    "    'X':model_training_data.X_validate,\n",
    "    'y':model_training_data.y_validate\n",
    "}\n",
    "\n",
    "for fold in model_training_data.folds:\n",
    "    models_to_validate['model_trained_on_k_{}_data.p'.format(fold)] = {\n",
    "        'X':model_training_data.folds[fold]['X_test'],\n",
    "        'y':model_training_data.folds[fold]['y_test']\n",
    "    }\n",
    "\n",
    "for model_name in models_to_validate:\n",
    "    print(model_name)\n",
    "    model = pickle.load(open(filepath + model_name, 'rb'))\n",
    "    y_pred = model.predict(models_to_validate[model_name]['X'])    \n",
    "    validate_metrics(y_true=models_to_validate[model_name]['y'], y_pred=y_pred)\n",
    "    print()\n",
    "    print()"
   ]
  },
  {
   "cell_type": "code",
   "execution_count": null,
   "metadata": {
    "ExecuteTime": {
     "end_time": "2019-04-29T21:11:17.584392Z",
     "start_time": "2019-04-29T21:11:16.193Z"
    }
   },
   "outputs": [],
   "source": [
    "thresholds = np.arange(0.1,.99,.01)"
   ]
  },
  {
   "cell_type": "code",
   "execution_count": null,
   "metadata": {
    "ExecuteTime": {
     "end_time": "2019-04-29T21:11:17.586609Z",
     "start_time": "2019-04-29T21:11:16.196Z"
    }
   },
   "outputs": [],
   "source": [
    "plt.figure(figsize=[20,10])\n",
    "precision = dict()\n",
    "\n",
    "for model_name in models_to_validate:\n",
    "    for thresh in thresholds:\n",
    "        probabilities = np.asarray([x[1] for x in model.predict_proba(models_to_validate[model_name]['X'])])\n",
    "        y_true = models_to_validate[model_name]['y']\n",
    "        high_prob_defaulters = y_true[probabilities > thresh]\n",
    "        precision[thresh] = np.sum(high_prob_defaulters)/len(high_prob_defaulters)        \n",
    "    precision_df = pd.DataFrame(precision).transpose()\n",
    "    plt.plot(precision_df, label=model_name)\n",
    "plt.legend()\n",
    "plt.title('Precision as a function of threshold')"
   ]
  },
  {
   "cell_type": "code",
   "execution_count": null,
   "metadata": {
    "ExecuteTime": {
     "end_time": "2019-04-29T21:11:17.588329Z",
     "start_time": "2019-04-29T21:11:16.198Z"
    }
   },
   "outputs": [],
   "source": [
    "plt.figure(figsize=[20,10])\n",
    "prediction_count = dict()\n",
    "for model_name in models_to_validate:\n",
    "    for thresh in thresholds:\n",
    "        probabilities = np.asarray([x[1] for x in model.predict_proba(models_to_validate[model_name]['X'])])\n",
    "        y_true = models_to_validate[model_name]['y']\n",
    "        high_prob_defaulters = y_true[probabilities > thresh]\n",
    "        prediction_count[thresh] = len(high_prob_defaulters)\n",
    "    prediction_count_df = pd.DataFrame(prediction_count, index=[0]).transpose()\n",
    "    plt.plot(prediction_count_df, label=model_name)\n",
    "plt.legend()\n",
    "plt.title('Number of predicted defaults as a function of threshold')"
   ]
  }
 ],
 "metadata": {
  "kernelspec": {
   "display_name": "DR_TH",
   "language": "python",
   "name": "py2env"
  },
  "language_info": {
   "codemirror_mode": {
    "name": "ipython",
    "version": 3
   },
   "file_extension": ".py",
   "mimetype": "text/x-python",
   "name": "python",
   "nbconvert_exporter": "python",
   "pygments_lexer": "ipython3",
   "version": "3.7.1"
  },
  "toc": {
   "colors": {
    "hover_highlight": "#DAA520",
    "navigate_num": "#000000",
    "navigate_text": "#333333",
    "running_highlight": "#FF0000",
    "selected_highlight": "#FFD700",
    "sidebar_border": "#EEEEEE",
    "wrapper_background": "#FFFFFF"
   },
   "moveMenuLeft": true,
   "nav_menu": {
    "height": "66px",
    "width": "252px"
   },
   "navigate_menu": true,
   "number_sections": true,
   "sideBar": true,
   "threshold": 4,
   "toc_cell": false,
   "toc_section_display": "block",
   "toc_window_display": false,
   "widenNotebook": false
  }
 },
 "nbformat": 4,
 "nbformat_minor": 2
}
