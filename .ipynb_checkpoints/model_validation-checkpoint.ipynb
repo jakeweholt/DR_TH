{
 "cells": [
  {
   "cell_type": "markdown",
   "metadata": {},
   "source": [
    "## Model Validation\n",
    "\n",
    "#### Validation Measures:\n",
    "\n",
    "Accuracy = $\\frac{\\sum(y_{true} == y_{predicted})}{len(y_{true})}$\n",
    "\n",
    "Precision = $\\frac{tp}{tp+fp}$, of the loans the model flags as \"is_bad\", what percentage will actually default?\n",
    "\n",
    "Recall = $\\frac{tp}{tp+fn}$, of all the loans that default, what percentage did the model catch?\n",
    "\n",
    "F1-Score = $\\frac{2 * (precision * recall)}{(precision + recall)}$, If precision and recall = 1, then F1-Score will equal 1. Best value = 1, worst value = 0."
   ]
  },
  {
   "cell_type": "code",
   "execution_count": 1,
   "metadata": {
    "ExecuteTime": {
     "end_time": "2019-04-29T18:39:35.701174Z",
     "start_time": "2019-04-29T18:39:35.298492Z"
    }
   },
   "outputs": [],
   "source": [
    "from sklearn.metrics import precision_score, recall_score, f1_score\n",
    "import numpy as np\n",
    "import pickle"
   ]
  },
  {
   "cell_type": "code",
   "execution_count": 2,
   "metadata": {
    "ExecuteTime": {
     "end_time": "2019-04-29T18:39:35.711027Z",
     "start_time": "2019-04-29T18:39:35.704297Z"
    }
   },
   "outputs": [],
   "source": [
    "def validate_metrics(y_true, y_pred):\n",
    "\n",
    "    accuracy = sum([y1==y2 for y1,y2 in zip(y_true.values, y_pred)])/len(y_true)\n",
    "    precision = precision_score(y_true=y_true, y_pred=y_pred)\n",
    "    recall = recall_score(y_true=y_true, y_pred=y_pred)\n",
    "    f_score  = f1_score(y_true=y_true, y_pred=y_pred)\n",
    "    \n",
    "    print('F-Score: %f' % f_score)\n",
    "    print('Additional Metrics:')\n",
    "    print('  Accuracy:  %f' % accuracy)\n",
    "    print('  Precision: %f' % precision)\n",
    "    print('  Recall:    %f' % recall)\n",
    "    \n",
    "    print(sum(y_pred))"
   ]
  },
  {
   "cell_type": "code",
   "execution_count": 8,
   "metadata": {
    "ExecuteTime": {
     "end_time": "2019-04-29T20:13:54.182501Z",
     "start_time": "2019-04-29T20:13:54.179328Z"
    }
   },
   "outputs": [],
   "source": [
    "model_type = 'logistic_regression_model'\n",
    "version = '0.1.1556568744'\n",
    "filepath = 'saved_models/{}/{}/'.format(model_type, version)"
   ]
  },
  {
   "cell_type": "markdown",
   "metadata": {},
   "source": [
    "### High Level Model Metrics"
   ]
  },
  {
   "cell_type": "code",
   "execution_count": 9,
   "metadata": {
    "ExecuteTime": {
     "end_time": "2019-04-29T20:13:55.701152Z",
     "start_time": "2019-04-29T20:13:55.546256Z"
    }
   },
   "outputs": [
    {
     "name": "stdout",
     "output_type": "stream",
     "text": [
      "model_trained_on_validation_data.p\n",
      "F-Score: 0.120000\n",
      "Additional Metrics:\n",
      "  Accuracy:  0.879369\n",
      "  Precision: 1.000000\n",
      "  Recall:    0.063830\n",
      "12\n",
      "\n",
      "\n",
      "model_trained_on_k_fold_0_data.p\n",
      "F-Score: 0.115044\n",
      "Additional Metrics:\n",
      "  Accuracy:  0.879081\n",
      "  Precision: 1.000000\n",
      "  Recall:    0.061033\n",
      "13\n",
      "\n",
      "\n",
      "model_trained_on_k_fold_1_data.p\n",
      "F-Score: 0.171674\n",
      "Additional Metrics:\n",
      "  Accuracy:  0.883243\n",
      "  Precision: 1.000000\n",
      "  Recall:    0.093897\n",
      "20\n",
      "\n",
      "\n",
      "model_trained_on_k_fold_2_data.p\n",
      "F-Score: 0.187234\n",
      "Additional Metrics:\n",
      "  Accuracy:  0.884383\n",
      "  Precision: 0.956522\n",
      "  Recall:    0.103774\n",
      "23\n",
      "\n",
      "\n",
      "model_trained_on_k_fold_3_data.p\n",
      "F-Score: 0.123894\n",
      "Additional Metrics:\n",
      "  Accuracy:  0.880145\n",
      "  Precision: 1.000000\n",
      "  Recall:    0.066038\n",
      "14\n",
      "\n",
      "\n",
      "model_trained_on_k_fold_4_data.p\n",
      "F-Score: 0.132159\n",
      "Additional Metrics:\n",
      "  Accuracy:  0.880751\n",
      "  Precision: 1.000000\n",
      "  Recall:    0.070755\n",
      "15\n",
      "\n",
      "\n"
     ]
    }
   ],
   "source": [
    "model_training_data = pickle.load(open(filepath + 'training_data.p', 'rb'))\n",
    "models_to_validate = dict()\n",
    "\n",
    "models_to_validate['model_trained_on_validation_data.p'] = {\n",
    "    'X':model_training_data.X_validate,\n",
    "    'y':model_training_data.y_validate\n",
    "}\n",
    "\n",
    "for fold in model_training_data.folds:\n",
    "    models_to_validate['model_trained_on_k_{}_data.p'.format(fold)] = {\n",
    "        'X':model_training_data.folds[fold]['X_test'],\n",
    "        'y':model_training_data.folds[fold]['y_test']\n",
    "    }\n",
    "\n",
    "for model_name in models_to_validate:\n",
    "    print(model_name)\n",
    "    model = pickle.load(open(filepath + model_name, 'rb'))\n",
    "    y_pred = model.predict(models_to_validate[model_name]['X'])    \n",
    "    validate_metrics(y_true=models_to_validate[model_name]['y'], y_pred=y_pred)\n",
    "    print()\n",
    "    print()"
   ]
  },
  {
   "cell_type": "code",
   "execution_count": 43,
   "metadata": {
    "ExecuteTime": {
     "end_time": "2019-04-29T20:15:45.974271Z",
     "start_time": "2019-04-29T20:15:45.965201Z"
    }
   },
   "outputs": [],
   "source": [
    "threshold = 0.24\n"
   ]
  },
  {
   "cell_type": "code",
   "execution_count": 44,
   "metadata": {
    "ExecuteTime": {
     "end_time": "2019-04-29T20:15:46.225862Z",
     "start_time": "2019-04-29T20:15:46.220422Z"
    }
   },
   "outputs": [
    {
     "data": {
      "text/plain": [
       "0.24094457035016792"
      ]
     },
     "execution_count": 44,
     "metadata": {},
     "output_type": "execute_result"
    }
   ],
   "source": [
    "np.percentile(probabilities, 95)"
   ]
  },
  {
   "cell_type": "code",
   "execution_count": 45,
   "metadata": {
    "ExecuteTime": {
     "end_time": "2019-04-29T20:15:46.458914Z",
     "start_time": "2019-04-29T20:15:46.452896Z"
    }
   },
   "outputs": [
    {
     "data": {
      "text/plain": [
       "is_bad    0.44186\n",
       "dtype: float64"
      ]
     },
     "execution_count": 45,
     "metadata": {},
     "output_type": "execute_result"
    }
   ],
   "source": [
    "np.sum(high_prob_defaulters)/len(high_prob_defaulters)"
   ]
  },
  {
   "cell_type": "code",
   "execution_count": 52,
   "metadata": {
    "ExecuteTime": {
     "end_time": "2019-04-29T20:16:51.416303Z",
     "start_time": "2019-04-29T20:16:51.413144Z"
    }
   },
   "outputs": [],
   "source": [
    "thresholds = np.arange(0.1,1,.01)"
   ]
  },
  {
   "cell_type": "code",
   "execution_count": 53,
   "metadata": {
    "ExecuteTime": {
     "end_time": "2019-04-29T20:16:52.084183Z",
     "start_time": "2019-04-29T20:16:52.078071Z"
    }
   },
   "outputs": [
    {
     "data": {
      "text/plain": [
       "array([0.1 , 0.11, 0.12, 0.13, 0.14, 0.15, 0.16, 0.17, 0.18, 0.19, 0.2 ,\n",
       "       0.21, 0.22, 0.23, 0.24, 0.25, 0.26, 0.27, 0.28, 0.29, 0.3 , 0.31,\n",
       "       0.32, 0.33, 0.34, 0.35, 0.36, 0.37, 0.38, 0.39, 0.4 , 0.41, 0.42,\n",
       "       0.43, 0.44, 0.45, 0.46, 0.47, 0.48, 0.49, 0.5 , 0.51, 0.52, 0.53,\n",
       "       0.54, 0.55, 0.56, 0.57, 0.58, 0.59, 0.6 , 0.61, 0.62, 0.63, 0.64,\n",
       "       0.65, 0.66, 0.67, 0.68, 0.69, 0.7 , 0.71, 0.72, 0.73, 0.74, 0.75,\n",
       "       0.76, 0.77, 0.78, 0.79, 0.8 , 0.81, 0.82, 0.83, 0.84, 0.85, 0.86,\n",
       "       0.87, 0.88, 0.89, 0.9 , 0.91, 0.92, 0.93, 0.94, 0.95, 0.96, 0.97,\n",
       "       0.98, 0.99])"
      ]
     },
     "execution_count": 53,
     "metadata": {},
     "output_type": "execute_result"
    }
   ],
   "source": [
    "output = dict()\n",
    "for thresh in thresholds:\n",
    "    probabilities = np.asarray([x[1] for x in model.predict_proba(models_to_validate[model_name]['X'])])\n",
    "    y_true = models_to_validate[model_name]['y']\n",
    "    high_prob_defaulters = y_true[probabilities > threshold]"
   ]
  },
  {
   "cell_type": "code",
   "execution_count": 54,
   "metadata": {
    "ExecuteTime": {
     "end_time": "2019-04-29T20:16:52.930056Z",
     "start_time": "2019-04-29T20:16:52.923847Z"
    }
   },
   "outputs": [
    {
     "data": {
      "text/plain": [
       "array([0.96251531, 0.25725416, 0.27842378, 0.33188173, 0.27180484,\n",
       "       0.25760511, 0.2549078 , 0.25285176, 0.2758139 , 0.29081967,\n",
       "       0.2621898 , 0.36336809, 0.91810311, 0.30740736, 0.33693288,\n",
       "       0.27711423, 0.27307182, 0.88938717, 0.94433075, 0.36541271,\n",
       "       0.35761518, 0.26622309, 0.27179549, 0.2409633 , 0.3219665 ,\n",
       "       0.2925082 , 0.2669193 , 0.27607645, 0.35264282, 0.24979251,\n",
       "       0.34699451, 0.30875087, 0.92160785, 0.24327277, 0.39433446,\n",
       "       0.94823416, 0.28411678, 0.24278896, 0.26682798, 0.9625978 ,\n",
       "       0.28834753, 0.34077732, 0.31414546, 0.28768498, 0.29594465,\n",
       "       0.3369201 , 0.26030251, 0.35347272, 0.24694046, 0.31273212,\n",
       "       0.25281662, 0.27804374, 0.2629949 , 0.24380482, 0.41627251,\n",
       "       0.92227667, 0.27216908, 0.26017821, 0.26097922, 0.24092925,\n",
       "       0.2879563 , 0.2532436 , 0.24488462, 0.35519191, 0.24395085,\n",
       "       0.24933718, 0.9286176 , 0.90762415, 0.98132369, 0.94607617,\n",
       "       0.31483285, 0.96881413, 0.29330938, 0.29886625, 0.24054568,\n",
       "       0.91967452, 0.29114329, 0.2529467 , 0.30355521, 0.26473574,\n",
       "       0.29149759, 0.26543907, 0.24042349, 0.93628905, 0.24731927,\n",
       "       0.34442423])"
      ]
     },
     "execution_count": 54,
     "metadata": {},
     "output_type": "execute_result"
    }
   ],
   "source": [
    "probabilities[probabilities > threshold]"
   ]
  },
  {
   "cell_type": "code",
   "execution_count": 48,
   "metadata": {
    "ExecuteTime": {
     "end_time": "2019-04-29T20:15:49.480725Z",
     "start_time": "2019-04-29T20:15:49.468141Z"
    }
   },
   "outputs": [
    {
     "data": {
      "text/html": [
       "<div>\n",
       "<style scoped>\n",
       "    .dataframe tbody tr th:only-of-type {\n",
       "        vertical-align: middle;\n",
       "    }\n",
       "\n",
       "    .dataframe tbody tr th {\n",
       "        vertical-align: top;\n",
       "    }\n",
       "\n",
       "    .dataframe thead th {\n",
       "        text-align: right;\n",
       "    }\n",
       "</style>\n",
       "<table border=\"1\" class=\"dataframe\">\n",
       "  <thead>\n",
       "    <tr style=\"text-align: right;\">\n",
       "      <th></th>\n",
       "      <th>is_bad</th>\n",
       "    </tr>\n",
       "  </thead>\n",
       "  <tbody>\n",
       "    <tr>\n",
       "      <th>7205</th>\n",
       "      <td>1</td>\n",
       "    </tr>\n",
       "    <tr>\n",
       "      <th>8150</th>\n",
       "      <td>0</td>\n",
       "    </tr>\n",
       "    <tr>\n",
       "      <th>4277</th>\n",
       "      <td>0</td>\n",
       "    </tr>\n",
       "    <tr>\n",
       "      <th>9295</th>\n",
       "      <td>0</td>\n",
       "    </tr>\n",
       "    <tr>\n",
       "      <th>4145</th>\n",
       "      <td>0</td>\n",
       "    </tr>\n",
       "    <tr>\n",
       "      <th>3962</th>\n",
       "      <td>1</td>\n",
       "    </tr>\n",
       "    <tr>\n",
       "      <th>6412</th>\n",
       "      <td>1</td>\n",
       "    </tr>\n",
       "    <tr>\n",
       "      <th>9163</th>\n",
       "      <td>0</td>\n",
       "    </tr>\n",
       "    <tr>\n",
       "      <th>6315</th>\n",
       "      <td>0</td>\n",
       "    </tr>\n",
       "    <tr>\n",
       "      <th>4100</th>\n",
       "      <td>0</td>\n",
       "    </tr>\n",
       "    <tr>\n",
       "      <th>8479</th>\n",
       "      <td>0</td>\n",
       "    </tr>\n",
       "    <tr>\n",
       "      <th>9605</th>\n",
       "      <td>0</td>\n",
       "    </tr>\n",
       "    <tr>\n",
       "      <th>5732</th>\n",
       "      <td>1</td>\n",
       "    </tr>\n",
       "    <tr>\n",
       "      <th>8233</th>\n",
       "      <td>0</td>\n",
       "    </tr>\n",
       "    <tr>\n",
       "      <th>6678</th>\n",
       "      <td>0</td>\n",
       "    </tr>\n",
       "    <tr>\n",
       "      <th>9518</th>\n",
       "      <td>0</td>\n",
       "    </tr>\n",
       "    <tr>\n",
       "      <th>4192</th>\n",
       "      <td>1</td>\n",
       "    </tr>\n",
       "    <tr>\n",
       "      <th>7945</th>\n",
       "      <td>1</td>\n",
       "    </tr>\n",
       "    <tr>\n",
       "      <th>1372</th>\n",
       "      <td>1</td>\n",
       "    </tr>\n",
       "    <tr>\n",
       "      <th>4931</th>\n",
       "      <td>0</td>\n",
       "    </tr>\n",
       "    <tr>\n",
       "      <th>3200</th>\n",
       "      <td>1</td>\n",
       "    </tr>\n",
       "    <tr>\n",
       "      <th>7834</th>\n",
       "      <td>0</td>\n",
       "    </tr>\n",
       "    <tr>\n",
       "      <th>3146</th>\n",
       "      <td>0</td>\n",
       "    </tr>\n",
       "    <tr>\n",
       "      <th>5448</th>\n",
       "      <td>0</td>\n",
       "    </tr>\n",
       "    <tr>\n",
       "      <th>2305</th>\n",
       "      <td>0</td>\n",
       "    </tr>\n",
       "    <tr>\n",
       "      <th>327</th>\n",
       "      <td>0</td>\n",
       "    </tr>\n",
       "    <tr>\n",
       "      <th>2585</th>\n",
       "      <td>0</td>\n",
       "    </tr>\n",
       "    <tr>\n",
       "      <th>8551</th>\n",
       "      <td>1</td>\n",
       "    </tr>\n",
       "    <tr>\n",
       "      <th>523</th>\n",
       "      <td>0</td>\n",
       "    </tr>\n",
       "    <tr>\n",
       "      <th>2988</th>\n",
       "      <td>1</td>\n",
       "    </tr>\n",
       "    <tr>\n",
       "      <th>...</th>\n",
       "      <td>...</td>\n",
       "    </tr>\n",
       "    <tr>\n",
       "      <th>2437</th>\n",
       "      <td>1</td>\n",
       "    </tr>\n",
       "    <tr>\n",
       "      <th>3026</th>\n",
       "      <td>1</td>\n",
       "    </tr>\n",
       "    <tr>\n",
       "      <th>5432</th>\n",
       "      <td>0</td>\n",
       "    </tr>\n",
       "    <tr>\n",
       "      <th>7448</th>\n",
       "      <td>1</td>\n",
       "    </tr>\n",
       "    <tr>\n",
       "      <th>3757</th>\n",
       "      <td>1</td>\n",
       "    </tr>\n",
       "    <tr>\n",
       "      <th>1088</th>\n",
       "      <td>0</td>\n",
       "    </tr>\n",
       "    <tr>\n",
       "      <th>3945</th>\n",
       "      <td>0</td>\n",
       "    </tr>\n",
       "    <tr>\n",
       "      <th>1152</th>\n",
       "      <td>0</td>\n",
       "    </tr>\n",
       "    <tr>\n",
       "      <th>8897</th>\n",
       "      <td>1</td>\n",
       "    </tr>\n",
       "    <tr>\n",
       "      <th>1527</th>\n",
       "      <td>1</td>\n",
       "    </tr>\n",
       "    <tr>\n",
       "      <th>646</th>\n",
       "      <td>1</td>\n",
       "    </tr>\n",
       "    <tr>\n",
       "      <th>871</th>\n",
       "      <td>1</td>\n",
       "    </tr>\n",
       "    <tr>\n",
       "      <th>4199</th>\n",
       "      <td>1</td>\n",
       "    </tr>\n",
       "    <tr>\n",
       "      <th>8189</th>\n",
       "      <td>1</td>\n",
       "    </tr>\n",
       "    <tr>\n",
       "      <th>1597</th>\n",
       "      <td>0</td>\n",
       "    </tr>\n",
       "    <tr>\n",
       "      <th>3121</th>\n",
       "      <td>1</td>\n",
       "    </tr>\n",
       "    <tr>\n",
       "      <th>173</th>\n",
       "      <td>0</td>\n",
       "    </tr>\n",
       "    <tr>\n",
       "      <th>5161</th>\n",
       "      <td>0</td>\n",
       "    </tr>\n",
       "    <tr>\n",
       "      <th>888</th>\n",
       "      <td>0</td>\n",
       "    </tr>\n",
       "    <tr>\n",
       "      <th>3832</th>\n",
       "      <td>1</td>\n",
       "    </tr>\n",
       "    <tr>\n",
       "      <th>4539</th>\n",
       "      <td>0</td>\n",
       "    </tr>\n",
       "    <tr>\n",
       "      <th>5677</th>\n",
       "      <td>1</td>\n",
       "    </tr>\n",
       "    <tr>\n",
       "      <th>5412</th>\n",
       "      <td>1</td>\n",
       "    </tr>\n",
       "    <tr>\n",
       "      <th>4267</th>\n",
       "      <td>0</td>\n",
       "    </tr>\n",
       "    <tr>\n",
       "      <th>7919</th>\n",
       "      <td>1</td>\n",
       "    </tr>\n",
       "    <tr>\n",
       "      <th>3824</th>\n",
       "      <td>1</td>\n",
       "    </tr>\n",
       "    <tr>\n",
       "      <th>108</th>\n",
       "      <td>0</td>\n",
       "    </tr>\n",
       "    <tr>\n",
       "      <th>9097</th>\n",
       "      <td>1</td>\n",
       "    </tr>\n",
       "    <tr>\n",
       "      <th>8849</th>\n",
       "      <td>0</td>\n",
       "    </tr>\n",
       "    <tr>\n",
       "      <th>2334</th>\n",
       "      <td>1</td>\n",
       "    </tr>\n",
       "  </tbody>\n",
       "</table>\n",
       "<p>86 rows × 1 columns</p>\n",
       "</div>"
      ],
      "text/plain": [
       "      is_bad\n",
       "7205       1\n",
       "8150       0\n",
       "4277       0\n",
       "9295       0\n",
       "4145       0\n",
       "3962       1\n",
       "6412       1\n",
       "9163       0\n",
       "6315       0\n",
       "4100       0\n",
       "8479       0\n",
       "9605       0\n",
       "5732       1\n",
       "8233       0\n",
       "6678       0\n",
       "9518       0\n",
       "4192       1\n",
       "7945       1\n",
       "1372       1\n",
       "4931       0\n",
       "3200       1\n",
       "7834       0\n",
       "3146       0\n",
       "5448       0\n",
       "2305       0\n",
       "327        0\n",
       "2585       0\n",
       "8551       1\n",
       "523        0\n",
       "2988       1\n",
       "...      ...\n",
       "2437       1\n",
       "3026       1\n",
       "5432       0\n",
       "7448       1\n",
       "3757       1\n",
       "1088       0\n",
       "3945       0\n",
       "1152       0\n",
       "8897       1\n",
       "1527       1\n",
       "646        1\n",
       "871        1\n",
       "4199       1\n",
       "8189       1\n",
       "1597       0\n",
       "3121       1\n",
       "173        0\n",
       "5161       0\n",
       "888        0\n",
       "3832       1\n",
       "4539       0\n",
       "5677       1\n",
       "5412       1\n",
       "4267       0\n",
       "7919       1\n",
       "3824       1\n",
       "108        0\n",
       "9097       1\n",
       "8849       0\n",
       "2334       1\n",
       "\n",
       "[86 rows x 1 columns]"
      ]
     },
     "execution_count": 48,
     "metadata": {},
     "output_type": "execute_result"
    }
   ],
   "source": [
    "high_prob_defaulters"
   ]
  },
  {
   "cell_type": "code",
   "execution_count": null,
   "metadata": {},
   "outputs": [],
   "source": []
  }
 ],
 "metadata": {
  "kernelspec": {
   "display_name": "DR_TH",
   "language": "python",
   "name": "py2env"
  },
  "language_info": {
   "codemirror_mode": {
    "name": "ipython",
    "version": 3
   },
   "file_extension": ".py",
   "mimetype": "text/x-python",
   "name": "python",
   "nbconvert_exporter": "python",
   "pygments_lexer": "ipython3",
   "version": "3.7.1"
  },
  "toc": {
   "colors": {
    "hover_highlight": "#DAA520",
    "navigate_num": "#000000",
    "navigate_text": "#333333",
    "running_highlight": "#FF0000",
    "selected_highlight": "#FFD700",
    "sidebar_border": "#EEEEEE",
    "wrapper_background": "#FFFFFF"
   },
   "moveMenuLeft": true,
   "nav_menu": {
    "height": "66px",
    "width": "252px"
   },
   "navigate_menu": true,
   "number_sections": true,
   "sideBar": true,
   "threshold": 4,
   "toc_cell": false,
   "toc_section_display": "block",
   "toc_window_display": false,
   "widenNotebook": false
  }
 },
 "nbformat": 4,
 "nbformat_minor": 2
}
