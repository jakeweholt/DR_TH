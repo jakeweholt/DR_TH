{
 "cells": [
  {
   "cell_type": "markdown",
   "metadata": {},
   "source": [
    "## Model Validation\n",
    "\n",
    "#### Validation Measures:\n",
    "\n",
    "Accuracy = $\\frac{\\sum(y_{true} == y_{predicted})}{len(y_{true})}$\n",
    "\n",
    "Precision = $\\frac{tp}{tp+fp}$, of the loans the model flags as \"is_bad\", what percentage will actually default?\n",
    "\n",
    "Recall = $\\frac{tp}{tp+fn}$, of all the loans that default, what percentage did the model catch?\n",
    "\n",
    "F1-Score = $\\frac{2 * (precision * recall)}{(precision + recall)}$, If precision and recall = 1, then F1-Score will equal 1. Best value = 1, worst value = 0."
   ]
  },
  {
   "cell_type": "code",
   "execution_count": 73,
   "metadata": {
    "ExecuteTime": {
     "end_time": "2019-04-29T20:20:24.702177Z",
     "start_time": "2019-04-29T20:20:24.198139Z"
    }
   },
   "outputs": [],
   "source": [
    "from sklearn.metrics import precision_score, recall_score, f1_score\n",
    "import matplotlib.pyplot as plt\n",
    "import numpy as np\n",
    "import pandas as pd\n",
    "import pickle"
   ]
  },
  {
   "cell_type": "code",
   "execution_count": 74,
   "metadata": {
    "ExecuteTime": {
     "end_time": "2019-04-29T20:20:25.603891Z",
     "start_time": "2019-04-29T20:20:25.597317Z"
    }
   },
   "outputs": [],
   "source": [
    "def validate_metrics(y_true, y_pred):\n",
    "\n",
    "    accuracy = sum([y1==y2 for y1,y2 in zip(y_true.values, y_pred)])/len(y_true)\n",
    "    precision = precision_score(y_true=y_true, y_pred=y_pred)\n",
    "    recall = recall_score(y_true=y_true, y_pred=y_pred)\n",
    "    f_score  = f1_score(y_true=y_true, y_pred=y_pred)\n",
    "    \n",
    "    print('F-Score: %f' % f_score)\n",
    "    print('Additional Metrics:')\n",
    "    print('  Accuracy:  %f' % accuracy)\n",
    "    print('  Precision: %f' % precision)\n",
    "    print('  Recall:    %f' % recall)\n",
    "    \n",
    "    print(sum(y_pred))"
   ]
  },
  {
   "cell_type": "code",
   "execution_count": 75,
   "metadata": {
    "ExecuteTime": {
     "end_time": "2019-04-29T20:20:25.783028Z",
     "start_time": "2019-04-29T20:20:25.779848Z"
    }
   },
   "outputs": [],
   "source": [
    "model_type = 'logistic_regression_model'\n",
    "version = '0.1.1556568744'\n",
    "filepath = 'saved_models/{}/{}/'.format(model_type, version)"
   ]
  },
  {
   "cell_type": "markdown",
   "metadata": {},
   "source": [
    "### High Level Model Metrics"
   ]
  },
  {
   "cell_type": "code",
   "execution_count": 76,
   "metadata": {
    "ExecuteTime": {
     "end_time": "2019-04-29T20:20:26.223207Z",
     "start_time": "2019-04-29T20:20:26.109072Z"
    }
   },
   "outputs": [
    {
     "name": "stdout",
     "output_type": "stream",
     "text": [
      "model_trained_on_validation_data.p\n",
      "F-Score: 0.120000\n",
      "Additional Metrics:\n",
      "  Accuracy:  0.879369\n",
      "  Precision: 1.000000\n",
      "  Recall:    0.063830\n",
      "12\n",
      "\n",
      "\n",
      "model_trained_on_k_fold_0_data.p\n",
      "F-Score: 0.115044\n",
      "Additional Metrics:\n",
      "  Accuracy:  0.879081\n",
      "  Precision: 1.000000\n",
      "  Recall:    0.061033\n",
      "13\n",
      "\n",
      "\n",
      "model_trained_on_k_fold_1_data.p\n",
      "F-Score: 0.171674\n",
      "Additional Metrics:\n",
      "  Accuracy:  0.883243\n",
      "  Precision: 1.000000\n",
      "  Recall:    0.093897\n",
      "20\n",
      "\n",
      "\n",
      "model_trained_on_k_fold_2_data.p\n",
      "F-Score: 0.187234\n",
      "Additional Metrics:\n",
      "  Accuracy:  0.884383\n",
      "  Precision: 0.956522\n",
      "  Recall:    0.103774\n",
      "23\n",
      "\n",
      "\n",
      "model_trained_on_k_fold_3_data.p\n",
      "F-Score: 0.123894\n",
      "Additional Metrics:\n",
      "  Accuracy:  0.880145\n",
      "  Precision: 1.000000\n",
      "  Recall:    0.066038\n",
      "14\n",
      "\n",
      "\n",
      "model_trained_on_k_fold_4_data.p\n",
      "F-Score: 0.132159\n",
      "Additional Metrics:\n",
      "  Accuracy:  0.880751\n",
      "  Precision: 1.000000\n",
      "  Recall:    0.070755\n",
      "15\n",
      "\n",
      "\n"
     ]
    }
   ],
   "source": [
    "model_training_data = pickle.load(open(filepath + 'training_data.p', 'rb'))\n",
    "models_to_validate = dict()\n",
    "\n",
    "models_to_validate['model_trained_on_validation_data.p'] = {\n",
    "    'X':model_training_data.X_validate,\n",
    "    'y':model_training_data.y_validate\n",
    "}\n",
    "\n",
    "for fold in model_training_data.folds:\n",
    "    models_to_validate['model_trained_on_k_{}_data.p'.format(fold)] = {\n",
    "        'X':model_training_data.folds[fold]['X_test'],\n",
    "        'y':model_training_data.folds[fold]['y_test']\n",
    "    }\n",
    "\n",
    "for model_name in models_to_validate:\n",
    "    print(model_name)\n",
    "    model = pickle.load(open(filepath + model_name, 'rb'))\n",
    "    y_pred = model.predict(models_to_validate[model_name]['X'])    \n",
    "    validate_metrics(y_true=models_to_validate[model_name]['y'], y_pred=y_pred)\n",
    "    print()\n",
    "    print()"
   ]
  },
  {
   "cell_type": "code",
   "execution_count": 79,
   "metadata": {
    "ExecuteTime": {
     "end_time": "2019-04-29T20:20:35.918891Z",
     "start_time": "2019-04-29T20:20:35.915666Z"
    }
   },
   "outputs": [],
   "source": [
    "thresholds = np.arange(0.1,.99,.01)"
   ]
  },
  {
   "cell_type": "code",
   "execution_count": null,
   "metadata": {
    "ExecuteTime": {
     "start_time": "2019-04-29T20:25:05.342Z"
    }
   },
   "outputs": [
    {
     "data": {
      "text/plain": [
       "<matplotlib.legend.Legend at 0x131cf0630>"
      ]
     },
     "execution_count": 93,
     "metadata": {},
     "output_type": "execute_result"
    }
   ],
   "source": [
    "plt.figure(figsize=[20,10])\n",
    "precision = dict()\n",
    "for model_name in models_to_validate:\n",
    "    for thresh in thresholds:\n",
    "        probabilities = np.asarray([x[1] for x in model.predict_proba(models_to_validate[model_name]['X'])])\n",
    "        y_true = models_to_validate[model_name]['y']\n",
    "        high_prob_defaulters = y_true[probabilities > thresh]\n",
    "        precision[thresh] = np.sum(high_prob_defaulters)/len(high_prob_defaulters)\n",
    "\n",
    "        precision_df = pd.DataFrame(precision).transpose()\n",
    "\n",
    "        plt.plot(precision_df, label=model_name)\n",
    "plt.legend()"
   ]
  },
  {
   "cell_type": "code",
   "execution_count": 91,
   "metadata": {
    "ExecuteTime": {
     "end_time": "2019-04-29T20:23:13.680967Z",
     "start_time": "2019-04-29T20:23:13.673302Z"
    }
   },
   "outputs": [],
   "source": []
  },
  {
   "cell_type": "code",
   "execution_count": 92,
   "metadata": {
    "ExecuteTime": {
     "end_time": "2019-04-29T20:23:14.488187Z",
     "start_time": "2019-04-29T20:23:14.312364Z"
    }
   },
   "outputs": [
    {
     "data": {
      "text/plain": [
       "[<matplotlib.lines.Line2D at 0x1315ac550>]"
      ]
     },
     "execution_count": 92,
     "metadata": {},
     "output_type": "execute_result"
    },
    {
     "data": {
      "image/png": "[encoded data removed]",
      "text/plain": [
       "<Figure size 432x288 with 1 Axes>"
      ]
     },
     "metadata": {
      "needs_background": "light"
     },
     "output_type": "display_data"
    }
   ],
   "source": []
  }
 ],
 "metadata": {
  "kernelspec": {
   "display_name": "DR_TH",
   "language": "python",
   "name": "py2env"
  },
  "language_info": {
   "codemirror_mode": {
    "name": "ipython",
    "version": 3
   },
   "file_extension": ".py",
   "mimetype": "text/x-python",
   "name": "python",
   "nbconvert_exporter": "python",
   "pygments_lexer": "ipython3",
   "version": "3.7.1"
  },
  "toc": {
   "colors": {
    "hover_highlight": "#DAA520",
    "navigate_num": "#000000",
    "navigate_text": "#333333",
    "running_highlight": "#FF0000",
    "selected_highlight": "#FFD700",
    "sidebar_border": "#EEEEEE",
    "wrapper_background": "#FFFFFF"
   },
   "moveMenuLeft": true,
   "nav_menu": {
    "height": "66px",
    "width": "252px"
   },
   "navigate_menu": true,
   "number_sections": true,
   "sideBar": true,
   "threshold": 4,
   "toc_cell": false,
   "toc_section_display": "block",
   "toc_window_display": false,
   "widenNotebook": false
  }
 },
 "nbformat": 4,
 "nbformat_minor": 2
}
